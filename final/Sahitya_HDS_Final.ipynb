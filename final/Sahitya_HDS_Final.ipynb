{
 "cells": [
  {
   "cell_type": "code",
   "execution_count": 35,
   "metadata": {
    "id": "68lvVmd-j6Gs"
   },
   "outputs": [],
   "source": [
    "import os\n",
    "import pymysql\n",
    "from sqlalchemy import create_engine\n",
    "import pandas as pd\n",
    "import numpy as np"
   ]
  },
  {
   "cell_type": "code",
   "execution_count": 36,
   "metadata": {},
   "outputs": [],
   "source": [
    "host = 'slucor2022-instance-1.cgdcoitnku0k.us-east-1.rds.amazonaws.com'\n",
    "port = '3306'\n",
    "user = 'slucor2022'\n",
    "password = 'SLUcor2022'\n",
    "database = 'hds5210'"
   ]
  },
  {
   "cell_type": "code",
   "execution_count": 37,
   "metadata": {},
   "outputs": [],
   "source": [
    "conn = create_engine('mysql+pymysql://' + \n",
    "                     user + ':' + \n",
    "                     password + '@' + \n",
    "                     host + '/' + \n",
    "                     database, echo=False)"
   ]
  },
  {
   "cell_type": "code",
   "execution_count": 38,
   "metadata": {},
   "outputs": [
    {
     "data": {
      "text/plain": [
       "<sqlalchemy.engine.base.Connection at 0x7f5c01496710>"
      ]
     },
     "execution_count": 38,
     "metadata": {},
     "output_type": "execute_result"
    }
   ],
   "source": [
    "import getpass\n",
    "myname = getpass.getuser().split('-')[1]\n",
    "myname\n",
    "MYTABLE = myname + '_data' + '_final'\n",
    "\n",
    "conn.connect()"
   ]
  },
  {
   "cell_type": "markdown",
   "metadata": {},
   "source": [
    "### Loading all the necessary data:: Data Sources : Local files, SQL. Data Formats: CSV, JSON, Excel"
   ]
  },
  {
   "cell_type": "code",
   "execution_count": 39,
   "metadata": {},
   "outputs": [],
   "source": [
    "life_expectancy_till_2010 = pd.read_csv(\"Life expectancy Data till 2010.csv\")\n",
    "json_data = pd.read_json(\"Life expectancy Data from 2010.json\")\n",
    "schooling_data = pd.read_excel(\"schooling_data.xlsx\")\n",
    "json_data.to_sql(MYTABLE, conn, if_exists = 'replace', index = False)\n",
    "sql_data_df = pd.read_sql_query('SELECT * FROM ' + MYTABLE, conn)"
   ]
  },
  {
   "cell_type": "markdown",
   "metadata": {},
   "source": [
    "### This function merges the given dataframes and returns the merged data frame. Input: Two dataframes which need to be merged."
   ]
  },
  {
   "cell_type": "code",
   "execution_count": 40,
   "metadata": {},
   "outputs": [],
   "source": [
    "def append_data_return_df(df1, df2):\n",
    "    merged_data = []\n",
    "    merged_data.append(df1)\n",
    "    merged_data.append(df2)\n",
    "    merged_df = pd.concat(merged_data)\n",
    "    return merged_df"
   ]
  },
  {
   "cell_type": "markdown",
   "metadata": {},
   "source": [
    "#### In the below cell we get the merged dataFrame from local file and sql "
   ]
  },
  {
   "cell_type": "code",
   "execution_count": 41,
   "metadata": {},
   "outputs": [],
   "source": [
    "data = append_data_return_df(life_expectancy_till_2010, sql_data_df)"
   ]
  },
  {
   "cell_type": "markdown",
   "metadata": {
    "id": "LUAe-De9oejK"
   },
   "source": [
    "### Checking whether Life expectancy column has Nan values."
   ]
  },
  {
   "cell_type": "code",
   "execution_count": 42,
   "metadata": {
    "colab": {
     "base_uri": "https://localhost:8080/"
    },
    "id": "e9IGsuw9LwVH",
    "outputId": "709fcda7-d283-4783-90d5-54948171b257"
   },
   "outputs": [
    {
     "data": {
      "text/plain": [
       "True"
      ]
     },
     "execution_count": 42,
     "metadata": {},
     "output_type": "execute_result"
    }
   ],
   "source": [
    "any(data['Life expectancy'].isna())"
   ]
  },
  {
   "cell_type": "markdown",
   "metadata": {
    "id": "el3xjnagouIr"
   },
   "source": [
    "### Dropping the missing values in Life expectancy column instead of using the mean values because there might be irregularities due to different years and countries being present.  "
   ]
  },
  {
   "cell_type": "code",
   "execution_count": 43,
   "metadata": {
    "id": "kxZzmVxsLpwb"
   },
   "outputs": [],
   "source": [
    "data = data.dropna(subset=['Life expectancy'])"
   ]
  },
  {
   "cell_type": "markdown",
   "metadata": {
    "id": "Bsb3FXSXpB19"
   },
   "source": [
    "### Making sure we are not left with any Nan values in Life expectancy column. "
   ]
  },
  {
   "cell_type": "code",
   "execution_count": 44,
   "metadata": {
    "colab": {
     "base_uri": "https://localhost:8080/"
    },
    "id": "-lvranjwL4d0",
    "outputId": "37891b3a-a43a-4881-e74c-03c1f5b488c8"
   },
   "outputs": [
    {
     "data": {
      "text/plain": [
       "False"
      ]
     },
     "execution_count": 44,
     "metadata": {},
     "output_type": "execute_result"
    }
   ],
   "source": [
    "any(data['Life expectancy'].isna())"
   ]
  },
  {
   "cell_type": "markdown",
   "metadata": {},
   "source": [
    "### The below function accepts a dataframe, parameters to pivot that dataframe(index, values and aggfunc). We then pivot the table and showcase the pivoted table and return it after resetting the index."
   ]
  },
  {
   "cell_type": "code",
   "execution_count": 45,
   "metadata": {
    "id": "6O73If5lt4-m"
   },
   "outputs": [],
   "source": [
    "def pivot_print_data_reset(df, index, values, aggfunc):\n",
    "  pivot_df = df.pivot_table(index = index, values = values, aggfunc = aggfunc)\n",
    "  print(pivot_df)\n",
    "  reset_df = pivot_df.reset_index()\n",
    "  return reset_df"
   ]
  },
  {
   "cell_type": "markdown",
   "metadata": {},
   "source": [
    "### The below outcome explains that there is a significant difference in Life expectancy with respect to the status of the country. One way to think is, how can we make the country developed such that it in-turn raises the life expectancy value."
   ]
  },
  {
   "cell_type": "code",
   "execution_count": 46,
   "metadata": {
    "colab": {
     "base_uri": "https://localhost:8080/"
    },
    "id": "W4ObEVQ6vFzV",
    "outputId": "f156b938-f4e1-4f4f-c950-077579c122e8"
   },
   "outputs": [
    {
     "name": "stdout",
     "output_type": "stream",
     "text": [
      "            Life expectancy\n",
      "Status                     \n",
      "Developed         79.197852\n",
      "Developing        67.111465\n"
     ]
    }
   ],
   "source": [
    "by_status_fun = pivot_print_data_reset(data, 'Status', 'Life expectancy', 'mean')"
   ]
  },
  {
   "cell_type": "markdown",
   "metadata": {},
   "source": [
    "### The below function plots the histogram for you based on your dataFrame, column Keys and column Values. We create the dictionary and map the values accordingly and call the inbuilt bar graph function."
   ]
  },
  {
   "cell_type": "code",
   "execution_count": 47,
   "metadata": {
    "id": "GqTlxgVuA4y8"
   },
   "outputs": [],
   "source": [
    "def hist_based_on_status(df, column_key, column_value):\n",
    "  import matplotlib.pyplot as plt\n",
    "  store = dict()\n",
    "  for i in df.index: store[df[column_key][i]] = df[column_value][i]\n",
    "  plt.bar(store.keys(), store.values())\n",
    "  plt.show()"
   ]
  },
  {
   "cell_type": "markdown",
   "metadata": {},
   "source": [
    "### Visualization of the life expectancy vs the status of the country."
   ]
  },
  {
   "cell_type": "code",
   "execution_count": 48,
   "metadata": {
    "colab": {
     "base_uri": "https://localhost:8080/",
     "height": 265
    },
    "id": "Ocy4drLFy12Y",
    "outputId": "383f9fa0-269c-4b41-ffcb-e6b99d009084"
   },
   "outputs": [
    {
     "data": {
      "image/png": "[encoded data removed]",
      "text/plain": [
       "<Figure size 432x288 with 1 Axes>"
      ]
     },
     "metadata": {
      "needs_background": "light"
     },
     "output_type": "display_data"
    }
   ],
   "source": [
    "hist_based_on_status(by_status_fun, 'Status', 'Life expectancy')"
   ]
  },
  {
   "cell_type": "markdown",
   "metadata": {},
   "source": [
    "### Irrespective of the year, now if we want to know the average of the life Expectancy for every country. And in the upcoming cells, let's see how this pivoting will help us reach our final destination"
   ]
  },
  {
   "cell_type": "code",
   "execution_count": 49,
   "metadata": {
    "colab": {
     "base_uri": "https://localhost:8080/"
    },
    "id": "Hs_OvQWO09fr",
    "outputId": "90db6664-ea74-43ac-f02b-b1863bcccdd0"
   },
   "outputs": [
    {
     "name": "stdout",
     "output_type": "stream",
     "text": [
      "                                    Life expectancy\n",
      "Country                                            \n",
      "Afghanistan                                58.19375\n",
      "Albania                                    75.15625\n",
      "Algeria                                    73.61875\n",
      "Angola                                     49.01875\n",
      "Antigua and Barbuda                        75.05625\n",
      "...                                             ...\n",
      "Venezuela (Bolivarian Republic of)         73.38750\n",
      "Viet Nam                                   74.77500\n",
      "Yemen                                      63.86250\n",
      "Zambia                                     53.90625\n",
      "Zimbabwe                                   50.48750\n",
      "\n",
      "[183 rows x 1 columns]\n"
     ]
    }
   ],
   "source": [
    "by_country_fun = pivot_print_data_reset(data, 'Country', 'Life expectancy', 'mean')"
   ]
  },
  {
   "cell_type": "markdown",
   "metadata": {
    "id": "3Rg3Yw3SApx0"
   },
   "source": [
    "### Sorting the data frame with respect to Life expectancy percentage to understand which countries did the best from 2000 to 2015 and the lower ones need to be monitored by WHO or require funding and caring to increase the life expectancy."
   ]
  },
  {
   "cell_type": "code",
   "execution_count": 50,
   "metadata": {
    "id": "0i9q6VVEHevC"
   },
   "outputs": [],
   "source": [
    "by_country_fun_sorted = by_country_fun.sort_values('Life expectancy') "
   ]
  },
  {
   "cell_type": "markdown",
   "metadata": {
    "id": "l5sMM--pBAnd"
   },
   "source": [
    "### These are the top 5 Countries which need more monitoring, funding and caring. These are the countries which are bringing down the worlds's average life expectancy. And they are in need to be monitored and understand what exactly is the main reason behind the low life expectancy. "
   ]
  },
  {
   "cell_type": "code",
   "execution_count": 51,
   "metadata": {
    "colab": {
     "base_uri": "https://localhost:8080/",
     "height": 206
    },
    "id": "SZDHY5y_9w-1",
    "outputId": "3f6cd8d6-b397-4a90-8f7c-1394b1c2b2c4"
   },
   "outputs": [
    {
     "data": {
      "text/html": [
       "<div>\n",
       "<style scoped>\n",
       "    .dataframe tbody tr th:only-of-type {\n",
       "        vertical-align: middle;\n",
       "    }\n",
       "\n",
       "    .dataframe tbody tr th {\n",
       "        vertical-align: top;\n",
       "    }\n",
       "\n",
       "    .dataframe thead th {\n",
       "        text-align: right;\n",
       "    }\n",
       "</style>\n",
       "<table border=\"1\" class=\"dataframe\">\n",
       "  <thead>\n",
       "    <tr style=\"text-align: right;\">\n",
       "      <th></th>\n",
       "      <th>Country</th>\n",
       "      <th>Life expectancy</th>\n",
       "    </tr>\n",
       "  </thead>\n",
       "  <tbody>\n",
       "    <tr>\n",
       "      <th>143</th>\n",
       "      <td>Sierra Leone</td>\n",
       "      <td>46.11250</td>\n",
       "    </tr>\n",
       "    <tr>\n",
       "      <th>31</th>\n",
       "      <td>Central African Republic</td>\n",
       "      <td>48.51250</td>\n",
       "    </tr>\n",
       "    <tr>\n",
       "      <th>92</th>\n",
       "      <td>Lesotho</td>\n",
       "      <td>48.78125</td>\n",
       "    </tr>\n",
       "    <tr>\n",
       "      <th>3</th>\n",
       "      <td>Angola</td>\n",
       "      <td>49.01875</td>\n",
       "    </tr>\n",
       "    <tr>\n",
       "      <th>98</th>\n",
       "      <td>Malawi</td>\n",
       "      <td>49.89375</td>\n",
       "    </tr>\n",
       "  </tbody>\n",
       "</table>\n",
       "</div>"
      ],
      "text/plain": [
       "                      Country  Life expectancy\n",
       "143              Sierra Leone         46.11250\n",
       "31   Central African Republic         48.51250\n",
       "92                    Lesotho         48.78125\n",
       "3                      Angola         49.01875\n",
       "98                     Malawi         49.89375"
      ]
     },
     "execution_count": 51,
     "metadata": {},
     "output_type": "execute_result"
    }
   ],
   "source": [
    "by_country_fun_sorted.head()"
   ]
  },
  {
   "cell_type": "code",
   "execution_count": 52,
   "metadata": {
    "colab": {
     "base_uri": "https://localhost:8080/",
     "height": 206
    },
    "id": "t2KnxOaB90i-",
    "outputId": "be4bce1f-9f63-4602-dae5-431c71e8dcd3"
   },
   "outputs": [
    {
     "data": {
      "text/html": [
       "<div>\n",
       "<style scoped>\n",
       "    .dataframe tbody tr th:only-of-type {\n",
       "        vertical-align: middle;\n",
       "    }\n",
       "\n",
       "    .dataframe tbody tr th {\n",
       "        vertical-align: top;\n",
       "    }\n",
       "\n",
       "    .dataframe thead th {\n",
       "        text-align: right;\n",
       "    }\n",
       "</style>\n",
       "<table border=\"1\" class=\"dataframe\">\n",
       "  <thead>\n",
       "    <tr style=\"text-align: right;\">\n",
       "      <th></th>\n",
       "      <th>Country</th>\n",
       "      <th>Life expectancy</th>\n",
       "    </tr>\n",
       "  </thead>\n",
       "  <tbody>\n",
       "    <tr>\n",
       "      <th>58</th>\n",
       "      <td>France</td>\n",
       "      <td>82.21875</td>\n",
       "    </tr>\n",
       "    <tr>\n",
       "      <th>157</th>\n",
       "      <td>Switzerland</td>\n",
       "      <td>82.33125</td>\n",
       "    </tr>\n",
       "    <tr>\n",
       "      <th>73</th>\n",
       "      <td>Iceland</td>\n",
       "      <td>82.44375</td>\n",
       "    </tr>\n",
       "    <tr>\n",
       "      <th>156</th>\n",
       "      <td>Sweden</td>\n",
       "      <td>82.51875</td>\n",
       "    </tr>\n",
       "    <tr>\n",
       "      <th>82</th>\n",
       "      <td>Japan</td>\n",
       "      <td>82.53750</td>\n",
       "    </tr>\n",
       "  </tbody>\n",
       "</table>\n",
       "</div>"
      ],
      "text/plain": [
       "         Country  Life expectancy\n",
       "58        France         82.21875\n",
       "157  Switzerland         82.33125\n",
       "73       Iceland         82.44375\n",
       "156       Sweden         82.51875\n",
       "82         Japan         82.53750"
      ]
     },
     "execution_count": 52,
     "metadata": {},
     "output_type": "execute_result"
    }
   ],
   "source": [
    "by_country_fun_sorted.tail()"
   ]
  },
  {
   "cell_type": "markdown",
   "metadata": {},
   "source": [
    "### Replacing missing values in Hepatitis B with the mean, at last let's see how much does Life expectancy depend on Hepatitis B"
   ]
  },
  {
   "cell_type": "code",
   "execution_count": 53,
   "metadata": {
    "colab": {
     "base_uri": "https://localhost:8080/"
    },
    "id": "N19PFRuAK12F",
    "outputId": "c811edd6-9a6f-4a7a-cdbc-a521438e1405"
   },
   "outputs": [
    {
     "name": "stdout",
     "output_type": "stream",
     "text": [
      "True\n"
     ]
    },
    {
     "data": {
      "text/plain": [
       "False"
      ]
     },
     "execution_count": 53,
     "metadata": {},
     "output_type": "execute_result"
    }
   ],
   "source": [
    "print(any(data['Hepatitis B'].isna()))\n",
    "data['Hepatitis B'].fillna(int(data['Hepatitis B'].mean()), inplace=True)\n",
    "any(data['Hepatitis B'].isna())"
   ]
  },
  {
   "cell_type": "markdown",
   "metadata": {},
   "source": [
    "### This scatter plot points out each country's life expectancy average from 2001-2015. it is to verify whether the Countries are sorted according to their Life expectancy."
   ]
  },
  {
   "cell_type": "code",
   "execution_count": 54,
   "metadata": {
    "colab": {
     "base_uri": "https://localhost:8080/",
     "height": 296
    },
    "id": "Msycpe20PrBN",
    "outputId": "43d3c4c0-c3f5-49be-b940-17667032fcab"
   },
   "outputs": [
    {
     "data": {
      "text/plain": [
       "<matplotlib.axes._subplots.AxesSubplot at 0x7f5c013a94e0>"
      ]
     },
     "execution_count": 54,
     "metadata": {},
     "output_type": "execute_result"
    },
    {
     "data": {
      "image/png": "[encoded data removed]",
      "text/plain": [
       "<Figure size 432x288 with 1 Axes>"
      ]
     },
     "metadata": {
      "needs_background": "light"
     },
     "output_type": "display_data"
    }
   ],
   "source": [
    "by_country_fun_sorted.plot(x='Country', y='Life expectancy', style='o')"
   ]
  },
  {
   "cell_type": "markdown",
   "metadata": {
    "id": "Ub5nvPzvE1gi"
   },
   "source": [
    "### World average life expectancy per year"
   ]
  },
  {
   "cell_type": "markdown",
   "metadata": {
    "id": "5kcopyNqFmlq"
   },
   "source": [
    "#### World's avergae Life expectancy has increased around 5% from 2000 to 2015. Almost every year it got a gradual increase from its previous year, which is a good sign for the world. "
   ]
  },
  {
   "cell_type": "code",
   "execution_count": 55,
   "metadata": {},
   "outputs": [
    {
     "data": {
      "text/plain": [
       "False"
      ]
     },
     "execution_count": 55,
     "metadata": {},
     "output_type": "execute_result"
    }
   ],
   "source": [
    "any(data['Year'].isna())"
   ]
  },
  {
   "cell_type": "code",
   "execution_count": 56,
   "metadata": {
    "colab": {
     "base_uri": "https://localhost:8080/"
    },
    "id": "Ep8kQPNJFFR7",
    "outputId": "b3b7c446-f4ff-4250-f07a-c878f4456ae0"
   },
   "outputs": [
    {
     "name": "stdout",
     "output_type": "stream",
     "text": [
      "      Life expectancy\n",
      "Year                 \n",
      "2000        66.750273\n",
      "2001        67.128962\n",
      "2002        67.351366\n",
      "2003        67.433333\n",
      "2004        67.646448\n",
      "2005        68.209290\n",
      "2006        68.667760\n",
      "2007        69.036066\n",
      "2008        69.427869\n",
      "2009        69.938251\n",
      "2010        70.048634\n",
      "2011        70.654098\n",
      "2012        70.916940\n",
      "2013        71.236066\n",
      "2014        71.536612\n",
      "2015        71.616940\n"
     ]
    }
   ],
   "source": [
    "by_year_fun = pivot_print_data_reset(data, 'Year', 'Life expectancy', 'mean')"
   ]
  },
  {
   "cell_type": "code",
   "execution_count": 57,
   "metadata": {
    "colab": {
     "base_uri": "https://localhost:8080/",
     "height": 296
    },
    "id": "UWLE2ATBTE8T",
    "outputId": "b5b7419d-4d7e-4a7e-df06-fc28838df9ff"
   },
   "outputs": [
    {
     "data": {
      "text/plain": [
       "<matplotlib.axes._subplots.AxesSubplot at 0x7f5c01332240>"
      ]
     },
     "execution_count": 57,
     "metadata": {},
     "output_type": "execute_result"
    },
    {
     "data": {
      "image/png": "[encoded data removed]",
      "text/plain": [
       "<Figure size 432x288 with 1 Axes>"
      ]
     },
     "metadata": {
      "needs_background": "light"
     },
     "output_type": "display_data"
    }
   ],
   "source": [
    "by_year_fun.plot(x='Year', y='Life expectancy', style='o')"
   ]
  },
  {
   "cell_type": "markdown",
   "metadata": {},
   "source": [
    "### groupby_fields function returns a grouped dataFrame which is grouped on given columns and the columns to output based on the required_columns parameter, and we aggregate on the inbuilt sum function and then return it after resetting the index."
   ]
  },
  {
   "cell_type": "code",
   "execution_count": 58,
   "metadata": {
    "id": "LDY0RsjNP8hU"
   },
   "outputs": [],
   "source": [
    "def groupby_fields(df, groupby_columns, required_columns):\n",
    "    grouped_df = df.groupby(groupby_columns)[required_columns].sum().reset_index()\n",
    "    return grouped_df"
   ]
  },
  {
   "cell_type": "markdown",
   "metadata": {},
   "source": [
    "### The below function returns the new dataframe created based on the columns and conditions given in input parameters. This needs to be extended for addition, subtraction and multiplcation too."
   ]
  },
  {
   "cell_type": "code",
   "execution_count": 59,
   "metadata": {
    "id": "5WGoVqsLVcF1"
   },
   "outputs": [],
   "source": [
    "def derive_under_five_death_percent(df, new_column, first_column, second_column, operator):\n",
    "  if operator == 'division':\n",
    "    derived_df = df[df[second_column] != 0.0] #As we are gonna divide it in the next step, so ensuring that no cell has zero value.\n",
    "    derived_df[new_column] = derived_df[first_column] / derived_df[second_column]\n",
    "  return derived_df"
   ]
  },
  {
   "cell_type": "markdown",
   "metadata": {
    "id": "TnOCR1GRaU54"
   },
   "source": [
    "### This helps us in knowing which country needs more funds and care with respect to the new born babies and we can investigate whether these deaths are due to not having good facilities in hospital for a new born baby or are they born with some disease."
   ]
  },
  {
   "cell_type": "code",
   "execution_count": 60,
   "metadata": {
    "colab": {
     "base_uri": "https://localhost:8080/",
     "height": 528
    },
    "id": "UH3pYC2LZYJb",
    "outputId": "524b6655-29c0-4c29-cde9-748767eeb2c6"
   },
   "outputs": [
    {
     "name": "stderr",
     "output_type": "stream",
     "text": [
      "/opt/tljh/user/lib/python3.6/site-packages/ipykernel_launcher.py:4: SettingWithCopyWarning: \n",
      "A value is trying to be set on a copy of a slice from a DataFrame.\n",
      "Try using .loc[row_indexer,col_indexer] = value instead\n",
      "\n",
      "See the caveats in the documentation: https://pandas.pydata.org/pandas-docs/stable/user_guide/indexing.html#returning-a-view-versus-a-copy\n",
      "  after removing the cwd from sys.path.\n"
     ]
    },
    {
     "data": {
      "text/html": [
       "<div>\n",
       "<style scoped>\n",
       "    .dataframe tbody tr th:only-of-type {\n",
       "        vertical-align: middle;\n",
       "    }\n",
       "\n",
       "    .dataframe tbody tr th {\n",
       "        vertical-align: top;\n",
       "    }\n",
       "\n",
       "    .dataframe thead th {\n",
       "        text-align: right;\n",
       "    }\n",
       "</style>\n",
       "<table border=\"1\" class=\"dataframe\">\n",
       "  <thead>\n",
       "    <tr style=\"text-align: right;\">\n",
       "      <th></th>\n",
       "      <th>Country</th>\n",
       "      <th>under-five deaths</th>\n",
       "      <th>Population</th>\n",
       "      <th>under_five_death_percent</th>\n",
       "    </tr>\n",
       "  </thead>\n",
       "  <tbody>\n",
       "    <tr>\n",
       "      <th>151</th>\n",
       "      <td>Spain</td>\n",
       "      <td>30</td>\n",
       "      <td>424685666.0</td>\n",
       "      <td>0.000007</td>\n",
       "    </tr>\n",
       "    <tr>\n",
       "      <th>80</th>\n",
       "      <td>Italy</td>\n",
       "      <td>37</td>\n",
       "      <td>442300623.0</td>\n",
       "      <td>0.000008</td>\n",
       "    </tr>\n",
       "    <tr>\n",
       "      <th>62</th>\n",
       "      <td>Germany</td>\n",
       "      <td>52</td>\n",
       "      <td>620117559.0</td>\n",
       "      <td>0.000008</td>\n",
       "    </tr>\n",
       "    <tr>\n",
       "      <th>114</th>\n",
       "      <td>Netherlands</td>\n",
       "      <td>16</td>\n",
       "      <td>156411270.0</td>\n",
       "      <td>0.000010</td>\n",
       "    </tr>\n",
       "    <tr>\n",
       "      <th>58</th>\n",
       "      <td>France</td>\n",
       "      <td>55</td>\n",
       "      <td>441307730.0</td>\n",
       "      <td>0.000012</td>\n",
       "    </tr>\n",
       "    <tr>\n",
       "      <th>...</th>\n",
       "      <td>...</td>\n",
       "      <td>...</td>\n",
       "      <td>...</td>\n",
       "      <td>...</td>\n",
       "    </tr>\n",
       "    <tr>\n",
       "      <th>79</th>\n",
       "      <td>Israel</td>\n",
       "      <td>16</td>\n",
       "      <td>445806.0</td>\n",
       "      <td>0.003589</td>\n",
       "    </tr>\n",
       "    <tr>\n",
       "      <th>82</th>\n",
       "      <td>Japan</td>\n",
       "      <td>64</td>\n",
       "      <td>1558145.0</td>\n",
       "      <td>0.004107</td>\n",
       "    </tr>\n",
       "    <tr>\n",
       "      <th>61</th>\n",
       "      <td>Georgia</td>\n",
       "      <td>20</td>\n",
       "      <td>162438.0</td>\n",
       "      <td>0.012312</td>\n",
       "    </tr>\n",
       "    <tr>\n",
       "      <th>152</th>\n",
       "      <td>Sri Lanka</td>\n",
       "      <td>76</td>\n",
       "      <td>173517.0</td>\n",
       "      <td>0.043800</td>\n",
       "    </tr>\n",
       "    <tr>\n",
       "      <th>34</th>\n",
       "      <td>China</td>\n",
       "      <td>5600</td>\n",
       "      <td>5148993.0</td>\n",
       "      <td>0.108759</td>\n",
       "    </tr>\n",
       "  </tbody>\n",
       "</table>\n",
       "<p>112 rows × 4 columns</p>\n",
       "</div>"
      ],
      "text/plain": [
       "         Country  under-five deaths   Population  under_five_death_percent\n",
       "151        Spain                 30  424685666.0                  0.000007\n",
       "80         Italy                 37  442300623.0                  0.000008\n",
       "62       Germany                 52  620117559.0                  0.000008\n",
       "114  Netherlands                 16  156411270.0                  0.000010\n",
       "58        France                 55  441307730.0                  0.000012\n",
       "..           ...                ...          ...                       ...\n",
       "79        Israel                 16     445806.0                  0.003589\n",
       "82         Japan                 64    1558145.0                  0.004107\n",
       "61       Georgia                 20     162438.0                  0.012312\n",
       "152    Sri Lanka                 76     173517.0                  0.043800\n",
       "34         China               5600    5148993.0                  0.108759\n",
       "\n",
       "[112 rows x 4 columns]"
      ]
     },
     "execution_count": 60,
     "metadata": {},
     "output_type": "execute_result"
    }
   ],
   "source": [
    "groupby_country_df = groupby_fields(data, ['Country'], ['under-five deaths', 'Population'])\n",
    "by_country_under_five_deaths_percent = derive_under_five_death_percent(groupby_country_df, 'under_five_death_percent', 'under-five deaths', 'Population', 'division').sort_values('under_five_death_percent')\n",
    "by_country_under_five_deaths_percent['under_five_death_percent'] = by_country_under_five_deaths_percent['under_five_death_percent'] * 100 \n",
    "by_country_under_five_deaths_percent_non_zero = by_country_under_five_deaths_percent[by_country_under_five_deaths_percent.under_five_death_percent != 0.000000]\n",
    "by_country_under_five_deaths_percent_non_zero.sort_values('under_five_death_percent')"
   ]
  },
  {
   "cell_type": "markdown",
   "metadata": {},
   "source": [
    "### We utilize the schooling data read from schooling_data.xlsx and also the data and this file cannot be directly paired, we group by with respect to their country and inner join them both by aggreagating with the mean Life expectancy of every country and display it such that we can the relevance w.r.t schooling and life expectancy"
   ]
  },
  {
   "cell_type": "code",
   "execution_count": 61,
   "metadata": {},
   "outputs": [
    {
     "data": {
      "text/html": [
       "<div>\n",
       "<style scoped>\n",
       "    .dataframe tbody tr th:only-of-type {\n",
       "        vertical-align: middle;\n",
       "    }\n",
       "\n",
       "    .dataframe tbody tr th {\n",
       "        vertical-align: top;\n",
       "    }\n",
       "\n",
       "    .dataframe thead th {\n",
       "        text-align: right;\n",
       "    }\n",
       "</style>\n",
       "<table border=\"1\" class=\"dataframe\">\n",
       "  <thead>\n",
       "    <tr style=\"text-align: right;\">\n",
       "      <th></th>\n",
       "      <th>Country</th>\n",
       "      <th>Life expectancy</th>\n",
       "      <th>Schooling</th>\n",
       "    </tr>\n",
       "  </thead>\n",
       "  <tbody>\n",
       "    <tr>\n",
       "      <th>0</th>\n",
       "      <td>Afghanistan</td>\n",
       "      <td>58.19375</td>\n",
       "      <td>8.21250</td>\n",
       "    </tr>\n",
       "    <tr>\n",
       "      <th>1</th>\n",
       "      <td>Albania</td>\n",
       "      <td>75.15625</td>\n",
       "      <td>12.13750</td>\n",
       "    </tr>\n",
       "    <tr>\n",
       "      <th>2</th>\n",
       "      <td>Algeria</td>\n",
       "      <td>73.61875</td>\n",
       "      <td>12.71250</td>\n",
       "    </tr>\n",
       "    <tr>\n",
       "      <th>3</th>\n",
       "      <td>Angola</td>\n",
       "      <td>49.01875</td>\n",
       "      <td>8.04375</td>\n",
       "    </tr>\n",
       "    <tr>\n",
       "      <th>4</th>\n",
       "      <td>Antigua and Barbuda</td>\n",
       "      <td>75.05625</td>\n",
       "      <td>8.84375</td>\n",
       "    </tr>\n",
       "    <tr>\n",
       "      <th>...</th>\n",
       "      <td>...</td>\n",
       "      <td>...</td>\n",
       "      <td>...</td>\n",
       "    </tr>\n",
       "    <tr>\n",
       "      <th>177</th>\n",
       "      <td>Venezuela (Bolivarian Republic of)</td>\n",
       "      <td>73.38750</td>\n",
       "      <td>12.78750</td>\n",
       "    </tr>\n",
       "    <tr>\n",
       "      <th>178</th>\n",
       "      <td>Viet Nam</td>\n",
       "      <td>74.77500</td>\n",
       "      <td>11.51250</td>\n",
       "    </tr>\n",
       "    <tr>\n",
       "      <th>179</th>\n",
       "      <td>Yemen</td>\n",
       "      <td>63.86250</td>\n",
       "      <td>8.50625</td>\n",
       "    </tr>\n",
       "    <tr>\n",
       "      <th>180</th>\n",
       "      <td>Zambia</td>\n",
       "      <td>53.90625</td>\n",
       "      <td>11.21250</td>\n",
       "    </tr>\n",
       "    <tr>\n",
       "      <th>181</th>\n",
       "      <td>Zimbabwe</td>\n",
       "      <td>50.48750</td>\n",
       "      <td>9.82500</td>\n",
       "    </tr>\n",
       "  </tbody>\n",
       "</table>\n",
       "<p>182 rows × 3 columns</p>\n",
       "</div>"
      ],
      "text/plain": [
       "                                Country  Life expectancy  Schooling\n",
       "0                           Afghanistan         58.19375    8.21250\n",
       "1                               Albania         75.15625   12.13750\n",
       "2                               Algeria         73.61875   12.71250\n",
       "3                                Angola         49.01875    8.04375\n",
       "4                   Antigua and Barbuda         75.05625    8.84375\n",
       "..                                  ...              ...        ...\n",
       "177  Venezuela (Bolivarian Republic of)         73.38750   12.78750\n",
       "178                            Viet Nam         74.77500   11.51250\n",
       "179                               Yemen         63.86250    8.50625\n",
       "180                              Zambia         53.90625   11.21250\n",
       "181                            Zimbabwe         50.48750    9.82500\n",
       "\n",
       "[182 rows x 3 columns]"
      ]
     },
     "execution_count": 61,
     "metadata": {},
     "output_type": "execute_result"
    }
   ],
   "source": [
    "schooling_data_grouped = schooling_data.groupby(['Country'])['Schooling'].mean().reset_index()\n",
    "sub_data = data[['Country', 'Life expectancy']]\n",
    "sub_data = sub_data.groupby(['Country'])['Life expectancy'].mean().reset_index() \n",
    "joined_school_data = sub_data.merge(schooling_data_grouped, how='inner')\n",
    "joined_school_data"
   ]
  },
  {
   "cell_type": "markdown",
   "metadata": {
    "id": "a-4ujGvhdwUY"
   },
   "source": [
    "### To check whether life expectancy has some positive/negative correlation or dependency on alcohol drinking people percentage and percentage of people who completed schooling and also the BMI."
   ]
  },
  {
   "cell_type": "markdown",
   "metadata": {},
   "source": [
    "#### Below is a straight-forward pivot and plot functions, this function takes the neccesary parameters to pivot the table and then it plots based on pivoted data."
   ]
  },
  {
   "cell_type": "code",
   "execution_count": 62,
   "metadata": {
    "id": "QFFNpTIGgK8q"
   },
   "outputs": [],
   "source": [
    "def pivot_and_plot(df, index, values, aggfunc):\n",
    "  pivoted_data = df.pivot_table(index = index, values = values, aggfunc = aggfunc)\n",
    "  pivoted_data.plot()"
   ]
  },
  {
   "cell_type": "markdown",
   "metadata": {},
   "source": [
    "#### We could observe that there is lot of randomness in alcohol vs life expectancy graph but, schooling and BMI are almost directly proportional to the life expectancy"
   ]
  },
  {
   "cell_type": "code",
   "execution_count": 63,
   "metadata": {
    "colab": {
     "base_uri": "https://localhost:8080/",
     "height": 803
    },
    "id": "owIN63XKib1q",
    "outputId": "29a7ce2c-be29-456d-aa54-1fc5a2ad6ec7"
   },
   "outputs": [
    {
     "data": {
      "image/png": "[encoded data removed]",
      "text/plain": [
       "<Figure size 432x288 with 1 Axes>"
      ]
     },
     "metadata": {
      "needs_background": "light"
     },
     "output_type": "display_data"
    },
    {
     "data": {
      "image/png": "[encoded data removed]",
      "text/plain": [
       "<Figure size 432x288 with 1 Axes>"
      ]
     },
     "metadata": {
      "needs_background": "light"
     },
     "output_type": "display_data"
    },
    {
     "data": {
      "image/png": "[encoded data removed]",
      "text/plain": [
       "<Figure size 432x288 with 1 Axes>"
      ]
     },
     "metadata": {
      "needs_background": "light"
     },
     "output_type": "display_data"
    }
   ],
   "source": [
    "pivot_and_plot(data, 'Alcohol', 'Life expectancy', 'mean')\n",
    "pivot_and_plot(data[data.Schooling > 0], 'Schooling', 'Life expectancy', 'mean')\n",
    "pivot_and_plot(data, 'BMI', 'Life expectancy', 'mean')"
   ]
  },
  {
   "cell_type": "markdown",
   "metadata": {},
   "source": [
    "## We can't go through the whole dataframe each time and search for our country name and then check each year's life expectancy. Main idea is to group the data based on the country and year. Then, we give the user to choose the country and return the data for each year with respect to that country and along with a scatter plot indicating how was the life expectancy changing through all those years."
   ]
  },
  {
   "cell_type": "markdown",
   "metadata": {},
   "source": [
    "#### This is a utility function to filter out the country and visualize the life expectancy fot that country over the years. This function accepts the dataframe and the country name entered by the user"
   ]
  },
  {
   "cell_type": "code",
   "execution_count": 64,
   "metadata": {
    "id": "oMFJGj8LUGl1"
   },
   "outputs": [],
   "source": [
    "def country_year(df, country):\n",
    "  df = df[df.Country == country]  # Filter based on the user given country\n",
    "  df.plot(x='Year', y='Life expectancy', style='o') # plot based on the filtered data\n",
    "  return df"
   ]
  },
  {
   "cell_type": "code",
   "execution_count": 65,
   "metadata": {
    "id": "tSAP9uvNfv9r"
   },
   "outputs": [],
   "source": [
    "by_country_year = data.groupby(['Country', 'Year'])['Life expectancy'].mean().reset_index()"
   ]
  },
  {
   "cell_type": "code",
   "execution_count": 66,
   "metadata": {
    "colab": {
     "base_uri": "https://localhost:8080/",
     "height": 813
    },
    "id": "pFT9yBgzVWWq",
    "outputId": "fc2a0437-20a0-4849-a5be-b51251f49fe5"
   },
   "outputs": [
    {
     "data": {
      "text/html": [
       "<div>\n",
       "<style scoped>\n",
       "    .dataframe tbody tr th:only-of-type {\n",
       "        vertical-align: middle;\n",
       "    }\n",
       "\n",
       "    .dataframe tbody tr th {\n",
       "        vertical-align: top;\n",
       "    }\n",
       "\n",
       "    .dataframe thead th {\n",
       "        text-align: right;\n",
       "    }\n",
       "</style>\n",
       "<table border=\"1\" class=\"dataframe\">\n",
       "  <thead>\n",
       "    <tr style=\"text-align: right;\">\n",
       "      <th></th>\n",
       "      <th>Country</th>\n",
       "      <th>Year</th>\n",
       "      <th>Life expectancy</th>\n",
       "    </tr>\n",
       "  </thead>\n",
       "  <tbody>\n",
       "    <tr>\n",
       "      <th>0</th>\n",
       "      <td>Afghanistan</td>\n",
       "      <td>2000</td>\n",
       "      <td>54.8</td>\n",
       "    </tr>\n",
       "    <tr>\n",
       "      <th>1</th>\n",
       "      <td>Afghanistan</td>\n",
       "      <td>2001</td>\n",
       "      <td>55.3</td>\n",
       "    </tr>\n",
       "    <tr>\n",
       "      <th>2</th>\n",
       "      <td>Afghanistan</td>\n",
       "      <td>2002</td>\n",
       "      <td>56.2</td>\n",
       "    </tr>\n",
       "    <tr>\n",
       "      <th>3</th>\n",
       "      <td>Afghanistan</td>\n",
       "      <td>2003</td>\n",
       "      <td>56.7</td>\n",
       "    </tr>\n",
       "    <tr>\n",
       "      <th>4</th>\n",
       "      <td>Afghanistan</td>\n",
       "      <td>2004</td>\n",
       "      <td>57.0</td>\n",
       "    </tr>\n",
       "    <tr>\n",
       "      <th>5</th>\n",
       "      <td>Afghanistan</td>\n",
       "      <td>2005</td>\n",
       "      <td>57.3</td>\n",
       "    </tr>\n",
       "    <tr>\n",
       "      <th>6</th>\n",
       "      <td>Afghanistan</td>\n",
       "      <td>2006</td>\n",
       "      <td>57.3</td>\n",
       "    </tr>\n",
       "    <tr>\n",
       "      <th>7</th>\n",
       "      <td>Afghanistan</td>\n",
       "      <td>2007</td>\n",
       "      <td>57.5</td>\n",
       "    </tr>\n",
       "    <tr>\n",
       "      <th>8</th>\n",
       "      <td>Afghanistan</td>\n",
       "      <td>2008</td>\n",
       "      <td>58.1</td>\n",
       "    </tr>\n",
       "    <tr>\n",
       "      <th>9</th>\n",
       "      <td>Afghanistan</td>\n",
       "      <td>2009</td>\n",
       "      <td>58.6</td>\n",
       "    </tr>\n",
       "    <tr>\n",
       "      <th>10</th>\n",
       "      <td>Afghanistan</td>\n",
       "      <td>2010</td>\n",
       "      <td>58.8</td>\n",
       "    </tr>\n",
       "    <tr>\n",
       "      <th>11</th>\n",
       "      <td>Afghanistan</td>\n",
       "      <td>2011</td>\n",
       "      <td>59.2</td>\n",
       "    </tr>\n",
       "    <tr>\n",
       "      <th>12</th>\n",
       "      <td>Afghanistan</td>\n",
       "      <td>2012</td>\n",
       "      <td>59.5</td>\n",
       "    </tr>\n",
       "    <tr>\n",
       "      <th>13</th>\n",
       "      <td>Afghanistan</td>\n",
       "      <td>2013</td>\n",
       "      <td>59.9</td>\n",
       "    </tr>\n",
       "    <tr>\n",
       "      <th>14</th>\n",
       "      <td>Afghanistan</td>\n",
       "      <td>2014</td>\n",
       "      <td>59.9</td>\n",
       "    </tr>\n",
       "    <tr>\n",
       "      <th>15</th>\n",
       "      <td>Afghanistan</td>\n",
       "      <td>2015</td>\n",
       "      <td>65.0</td>\n",
       "    </tr>\n",
       "  </tbody>\n",
       "</table>\n",
       "</div>"
      ],
      "text/plain": [
       "        Country  Year  Life expectancy\n",
       "0   Afghanistan  2000             54.8\n",
       "1   Afghanistan  2001             55.3\n",
       "2   Afghanistan  2002             56.2\n",
       "3   Afghanistan  2003             56.7\n",
       "4   Afghanistan  2004             57.0\n",
       "5   Afghanistan  2005             57.3\n",
       "6   Afghanistan  2006             57.3\n",
       "7   Afghanistan  2007             57.5\n",
       "8   Afghanistan  2008             58.1\n",
       "9   Afghanistan  2009             58.6\n",
       "10  Afghanistan  2010             58.8\n",
       "11  Afghanistan  2011             59.2\n",
       "12  Afghanistan  2012             59.5\n",
       "13  Afghanistan  2013             59.9\n",
       "14  Afghanistan  2014             59.9\n",
       "15  Afghanistan  2015             65.0"
      ]
     },
     "execution_count": 66,
     "metadata": {},
     "output_type": "execute_result"
    },
    {
     "data": {
      "image/png": "[encoded data removed]",
      "text/plain": [
       "<Figure size 432x288 with 1 Axes>"
      ]
     },
     "metadata": {
      "needs_background": "light"
     },
     "output_type": "display_data"
    }
   ],
   "source": [
    "country_year(by_country_year, 'Afghanistan')"
   ]
  },
  {
   "cell_type": "markdown",
   "metadata": {},
   "source": [
    "#### User can enter one of the country name and the data with respect to that country for all years displayed and then a small visualization."
   ]
  },
  {
   "cell_type": "code",
   "execution_count": 68,
   "metadata": {
    "colab": {
     "base_uri": "https://localhost:8080/",
     "height": 830
    },
    "id": "xwLaF8uhYkJA",
    "outputId": "21345ebf-caae-4972-a09c-846e18ea6451"
   },
   "outputs": [
    {
     "name": "stdin",
     "output_type": "stream",
     "text": [
      " \n"
     ]
    },
    {
     "data": {
      "text/html": [
       "<div>\n",
       "<style scoped>\n",
       "    .dataframe tbody tr th:only-of-type {\n",
       "        vertical-align: middle;\n",
       "    }\n",
       "\n",
       "    .dataframe tbody tr th {\n",
       "        vertical-align: top;\n",
       "    }\n",
       "\n",
       "    .dataframe thead th {\n",
       "        text-align: right;\n",
       "    }\n",
       "</style>\n",
       "<table border=\"1\" class=\"dataframe\">\n",
       "  <thead>\n",
       "    <tr style=\"text-align: right;\">\n",
       "      <th></th>\n",
       "      <th>Country</th>\n",
       "      <th>Year</th>\n",
       "      <th>Life expectancy</th>\n",
       "    </tr>\n",
       "  </thead>\n",
       "  <tbody>\n",
       "  </tbody>\n",
       "</table>\n",
       "</div>"
      ],
      "text/plain": [
       "Empty DataFrame\n",
       "Columns: [Country, Year, Life expectancy]\n",
       "Index: []"
      ]
     },
     "execution_count": 68,
     "metadata": {},
     "output_type": "execute_result"
    },
    {
     "data": {
      "image/png": "[encoded data removed]",
      "text/plain": [
       "<Figure size 432x288 with 1 Axes>"
      ]
     },
     "metadata": {
      "needs_background": "light"
     },
     "output_type": "display_data"
    }
   ],
   "source": [
    "country = input()\n",
    "country_year(by_country_year, country)"
   ]
  },
  {
   "cell_type": "markdown",
   "metadata": {},
   "source": [
    "## Usage of whatever done till now.\n",
    "\n",
    "#### To find out what are the various predicting factors which has been choosen initially affect the Life expectancy? What are the predicting variables actually affecting the life expectancy?\n",
    "\n",
    "#### Which countries need to increase its healthcare expenditure in order to improve its average lifespan?\n",
    "\n",
    "#### Does life expectancy has correlation with respect to BMI, Hepatitis B, HIV, drinking alcohol etc.\n",
    "\n",
    "#### The impact of schooling on the lifespan of humans?\n",
    "\n",
    "#### Where are under five year babies deaths most in number, this helps us to increase the care or funding in those countries."
   ]
  },
  {
   "cell_type": "code",
   "execution_count": 70,
   "metadata": {},
   "outputs": [
    {
     "name": "stdin",
     "output_type": "stream",
     "text": [
      "\n",
      "Are you ready to submit your work?\n",
      "1. Click the Save icon (or do Ctrl-S / Cmd-S)\n",
      "2. Type \"yes\" or \"no\" below\n",
      "3. Press Enter\n",
      "\n",
      " yes\n"
     ]
    },
    {
     "name": "stdout",
     "output_type": "stream",
     "text": [
      "fatal: pathspec 'final.ipynb' did not match any files\n",
      "On branch main\n",
      "Your branch is up to date with 'origin/main'.\n",
      "\n",
      "Untracked files:\n",
      "\t\u001b[31m../EHR.csv\u001b[m\n",
      "\t\u001b[31m../HospInfo.csv\u001b[m\n",
      "\t\u001b[31m../Untitled.ipynb\u001b[m\n",
      "\t\u001b[31m../Untitled1.ipynb\u001b[m\n",
      "\t\u001b[31m../apache_patients.csv\u001b[m\n",
      "\t\u001b[31m./\u001b[m\n",
      "\t\u001b[31m../week 03/week03_class.ipynb\u001b[m\n",
      "\t\u001b[31m../week 04/week04_examples.ipynb\u001b[m\n",
      "\t\u001b[31m../week 04/week04_lookups.ipynb\u001b[m\n",
      "\t\u001b[31m../week 05/\u001b[m\n",
      "\t\u001b[31m../week 06/module29-xml-examples.ipynb\u001b[m\n",
      "\t\u001b[31m../week 06/week06_inclass_1.ipynb\u001b[m\n",
      "\t\u001b[31m../week 10/Number_of_Cancer_Cases_for_All_Cancer_Sites_by_Jurisdiction__Gender__and_Race__Maryland_2009.csv\u001b[m\n",
      "\t\u001b[31m../week 13/HospInfo.csv\u001b[m\n",
      "\t\u001b[31m../week02/\u001b[m\n",
      "\n",
      "nothing added to commit but untracked files present\n",
      "Everything up-to-date\n"
     ]
    }
   ],
   "source": [
    "a=input('''\n",
    "Are you ready to submit your work?\n",
    "1. Click the Save icon (or do Ctrl-S / Cmd-S)\n",
    "2. Type \"yes\" or \"no\" below\n",
    "3. Press Enter\n",
    "\n",
    "''')\n",
    "\n",
    "if a=='yes':\n",
    "    !git add final.ipynb\n",
    "    !git commit -a -m \"Submitting the Sahitya_HDS_Final.ipynb\"\n",
    "    !git push\n",
    "else:\n",
    "    print('''\n",
    "    \n",
    "OK. We can wait.\n",
    "''')"
   ]
  },
  {
   "cell_type": "code",
   "execution_count": null,
   "metadata": {},
   "outputs": [],
   "source": []
  }
 ],
 "metadata": {
  "colab": {
   "collapsed_sections": [],
   "name": "Sahitya_HDS_FInal.ipynb",
   "provenance": []
  },
  "kernelspec": {
   "display_name": "Python 3",
   "language": "python",
   "name": "python3"
  },
  "language_info": {
   "codemirror_mode": {
    "name": "ipython",
    "version": 3
   },
   "file_extension": ".py",
   "mimetype": "text/x-python",
   "name": "python",
   "nbconvert_exporter": "python",
   "pygments_lexer": "ipython3",
   "version": "3.6.7"
  }
 },
 "nbformat": 4,
 "nbformat_minor": 2
}
