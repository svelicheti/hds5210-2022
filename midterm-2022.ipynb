{
 "cells": [
  {
   "cell_type": "markdown",
   "metadata": {},
   "source": [
    "# HDS5210-2022 Midterm\n",
    "\n",
    "In the midterm, you're going to use all of the programming and data management skills you've developed so far to build a risk calculator that pretends to be integrated with a clinical registry.  You'll compute the PRIEST COVID-19 Clinical Severity Score for a series of patients and, based on their risk of an adverse outcome, query a REST web service to find a hospital to transfer them to. The end result of your work will be a list of instructions on where each patient should be discharged: \"home\" if they are below 30% risk and the recommended hospital if they are at or above 30%.\n",
    "\n",
    "Each step in the midterm will build up to form your final solution. Along the way, I've provided plenty of test cases to make sure that you're getting those steps correct.\n",
    "\n",
    "The midterm is due at 11:59 PM CST on Monday, March 14th.\n",
    "\n",
    "---"
   ]
  },
  {
   "cell_type": "markdown",
   "metadata": {},
   "source": [
    "## Step 1: Calculate PRIEST Clinical Severity Score\n",
    "\n",
    "This scoring algorithm can be found [here on the MDCalc website](https://www.mdcalc.com/priest-covid-19-clinical-severity-score#evidence).  \n",
    "\n",
    "1. You will need to write a function called **priest()** with the following input parameters.  \n",
    " * Sex\n",
    " * Age in years\n",
    " * Respiratory rate in breaths per minute\n",
    " * Oxygen saturation as a percent between 0 and 1\n",
    " * Heart rate in beats per minute\n",
    " * Systolic BP in mmHg\n",
    " * Temperature in degrees C\n",
    " * Alertness as a string description\n",
    " * Inspired Oxygen as as string description\n",
    " * Performance Status as a string description\n",
    "2. The function will need to follow the algorithm provided on the MDCalc website to compute a risk percentage that should be returned as a numeric value between 0 and 1.\n",
    "3. Be sure to use docstring documentation and at least three built-in docstring test cases.\n",
    "4. Assume that the input values that are strings could be any combination of upper or lower case. For example: 'male', 'Male', 'MALE', 'MalE' should all be interpretted by your code as male.\n",
    "5. If any of the inputs are invalid (for example a sex value that is not recognizable as male or female) your code should raise a ValueException that includes a message with the invalid input and which parameter that input was provided as.\n",
    "\n",
    "NOTES:\n",
    "1. In the final step there is a rule to convert form raw score to percentile.  In that conversion, 17-25 maps to 59-88% and ≥26 maps to >99%.  For our purposes, we want these to be specific % number outputs.  Use the following rule:\n",
    " * If score is between 17 and 25, percentile should be 0.59\n",
    " * If score is greater than or equal to 26, percentile should be 0.99\n"
   ]
  },
  {
   "cell_type": "code",
   "execution_count": 1,
   "metadata": {},
   "outputs": [],
   "source": [
    "import requests\n",
    "import json\n",
    "import html5lib\n",
    "import os\n",
    "import pandas as pd\n",
    "from bs4 import BeautifulSoup as BS"
   ]
  },
  {
   "cell_type": "code",
   "execution_count": 2,
   "metadata": {},
   "outputs": [],
   "source": [
    "def get_sex_score(sex):\n",
    "    if sex == \"male\": return 1\n",
    "    if sex == \"female\": return 0\n",
    "    raise ValueError('parameter sex is invalid input')\n",
    "    return 0   "
   ]
  },
  {
   "cell_type": "code",
   "execution_count": 3,
   "metadata": {},
   "outputs": [],
   "source": [
    "def get_age_score(age):\n",
    "  if 16 <= age <= 49: return 0\n",
    "  elif 50 <= age <= 65: return 2\n",
    "  elif 66 <= age <= 80: return 3\n",
    "  elif age > 80: return 4\n",
    "  return 0"
   ]
  },
  {
   "cell_type": "code",
   "execution_count": 4,
   "metadata": {},
   "outputs": [],
   "source": [
    "def get_rrbp_score(rrbp):\n",
    "  if rrbp < 9: return 3\n",
    "  elif 9 <= rrbp <= 11: return 1\n",
    "  elif 12 <= rrbp <= 20: return 0\n",
    "  elif 21 <= rrbp <= 24: return 2\n",
    "  elif rrbp >24: return 3\n",
    "  return 0"
   ]
  },
  {
   "cell_type": "code",
   "execution_count": 5,
   "metadata": {},
   "outputs": [],
   "source": [
    "def get_os_score(os):\n",
    "  if os > 95: return 0\n",
    "  elif 94 <= os <= 95: return 1\n",
    "  elif 92 <= os <= 93: return 2\n",
    "  elif os < 92: return 3\n",
    "  return 0"
   ]
  },
  {
   "cell_type": "code",
   "execution_count": 6,
   "metadata": {},
   "outputs": [],
   "source": [
    "def get_hrbp_score(hrbp):\n",
    "  if hrbp < 41: return 3\n",
    "  elif 41 <= hrbp <= 50: return 1\n",
    "  elif 51 <= hrbp <= 90: return 0\n",
    "  elif 91 <= hrbp <= 110: return 1\n",
    "  elif 111 <= hrbp <= 130: return 2\n",
    "  elif hrbp > 130: return 3\n",
    "  return 0"
   ]
  },
  {
   "cell_type": "code",
   "execution_count": 7,
   "metadata": {},
   "outputs": [],
   "source": [
    "def get_sbp_score(sbp):\n",
    "    if sbp < 91: return 3\n",
    "    elif 91 <= sbp <= 100: return 2\n",
    "    elif 101 <= sbp <= 110: return 1\n",
    "    elif 111 <= sbp <= 219: return 0\n",
    "    elif sbp > 219: return 3\n",
    "    return 0"
   ]
  },
  {
   "cell_type": "code",
   "execution_count": 8,
   "metadata": {},
   "outputs": [],
   "source": [
    "def get_temp_score(temp):\n",
    "    if temp < 35.1: return 3\n",
    "    elif 35.1 <= temp <= 36: return 1\n",
    "    elif 36.1 <= temp <= 38: return 0\n",
    "    elif 38.1 <= temp <= 39.0: return 1\n",
    "    elif temp > 39: return 2\n",
    "    return 0"
   ]
  },
  {
   "cell_type": "code",
   "execution_count": 9,
   "metadata": {},
   "outputs": [],
   "source": [
    "def get_misc_score(misc):\n",
    "  store = {\"alert\": 0, \"confused or not alert\" : 3, \"air\": 0, \"supplemental oxygen\" : 2, \"unrestricted normal activity\": 0, \"limited strenuous activity, can do light activity\": 1, \"limited activity, can self-care\" : 2, \"limited self-care\" : 3, \"bed/chair bound, no self-care\" : 4}\n",
    "  if misc not in store: raise ValueError(misc, \" is invalid input\")\n",
    "  return store[misc]"
   ]
  },
  {
   "cell_type": "code",
   "execution_count": 10,
   "metadata": {},
   "outputs": [
    {
     "data": {
      "text/plain": [
       "TestResults(failed=0, attempted=4)"
      ]
     },
     "execution_count": 10,
     "metadata": {},
     "output_type": "execute_result"
    }
   ],
   "source": [
    "def priest(sex, age, rrate, spo2, hrate, bp, temp, alert, inspired_oxygen, performance):\n",
    "    \"\"\"\n",
    "    The priest function computes(gets the score from each of the input argument) and returns the risk percentage by considering input factors.\n",
    "\n",
    "    Parameters:\n",
    "      sex (stirng) : gender of the input person\n",
    "      age (integer) : age of the person in years\n",
    "      rrate (float) : Respiratory rate in breaths per minute\n",
    "      spo2 (float) : Oxygen saturation as a percent between 0 and 1\n",
    "      hrate (float) : Heart rate in beats per minute\n",
    "      bp (float) : Systolic BP in mmHg\n",
    "      temp (float) : Temperature in degrees C\n",
    "      alert (string) : Alertness as a string description\n",
    "      inspired_oxygen (string) : Inspired Oxygen as as string description\n",
    "      performance (string) : Performance Status as a string description\n",
    "\n",
    "    Returns:\n",
    "      Float: Returns the risk percentage after calculating from the input args and after the mapping with the severity\n",
    "      Raises ValueError with the invalid argument if invalid input is entered  \n",
    "\n",
    "    >>> priest(\"FEMALE\", 40, 24, 96, 105, 115, 34.9, \"ALERT\", \"AIR\", \"unrestricted normal activity\")\n",
    "    0.15\n",
    "    >>> priest(\"Female\", 40, 22, 98, 89, 230, 38.1, \"alert\", \"AIR\", \"unrestricted normal activity\")\n",
    "    0.15\n",
    "    >>> priest(\"FEMALE\", 18, 23, 96, 105, 101, 38.1, \"ALERT\", \"AIR\", \"limited activity, can self-care\")\n",
    "    0.18\n",
    "    >>> priest(\"male\", 65, 23, 99, 105, 91, 38.1, \"alert\", \"AIR\", \"unrestricted normal activity\")\n",
    "    0.26\n",
    "    \"\"\"\n",
    "    score = 0\n",
    "    score += get_sex_score(sex.lower()) \n",
    "    score += get_age_score(age)\n",
    "    score += get_hrbp_score(hrate)\n",
    "    score += get_os_score(spo2*100)\n",
    "    score += get_rrbp_score(rrate)\n",
    "    score += get_sbp_score(bp)\n",
    "    score += get_temp_score(temp)\n",
    "    score += get_misc_score(alert.lower())\n",
    "    score += get_misc_score(inspired_oxygen.lower())\n",
    "    score += get_misc_score(performance.lower())\n",
    "\n",
    "    conversion_dict = {0: 1,\n",
    "                        1: 1,\n",
    "                        2: 2,\n",
    "                        3: 2,\n",
    "                        4: 3,\n",
    "                        5: 9,\n",
    "                        6: 15,\n",
    "                        7: 18,\n",
    "                        8: 22,\n",
    "                        9: 26,\n",
    "                        10: 29,\n",
    "                        11: 34,\n",
    "                        12: 38,\n",
    "                        13: 46,\n",
    "                        14: 47,\n",
    "                        15: 49,\n",
    "                        16: 55}\n",
    "    \n",
    "    if score<=16: return conversion_dict[score] / 100\n",
    "    elif score>=17 and score<=25: return 0.59\n",
    "    else: return 0.99\n",
    "\n",
    "import doctest\n",
    "doctest.testmod()\n"
   ]
  },
  {
   "cell_type": "markdown",
   "metadata": {},
   "source": [
    "## Part 2: Find a hospital\n",
    "\n",
    "The next thing we have to do is figure out where to send this particular patient.  The guidelines on where to send a patient are based on their age (pediatric, adult, geriatric), sex, and risk percentage.  Luckily, you don't have to implement these rules. I already have. All you have to do is use a REST web service that I've created for you.\n",
    "\n",
    "You'll want to use Python to make a call to my REST web service similar to the example URL below. The first part of the URL will be the same for everyone and every request that you make. What you will need to modify for each of your requests is the information after the question mark.\n",
    "\n",
    "```\n",
    "https://oumdj6oci2.execute-api.us-east-1.amazonaws.com/prd/?age=40&sex=male&risk_pct=0.1\n",
    "```\n",
    "\n",
    "The example above asks my web service where a 40-year old male with a risk percetage of 10% should go.  What the web service will return back is a JSON string containing the information you need.  That JSON will look like this:\n",
    "\n",
    "```json\n",
    "{\n",
    "  \"age\": \"40\",\n",
    "  \"sex\": \"male\",\n",
    "  \"risk\": \"0.1\",\n",
    "  \"hospital\": \"Southwest Hospital and Medical Center\"\n",
    "}\n",
    "```\n",
    "\n",
    "1. Your job is to write a function called **find_hospital()** that takes age, sex, and risk as parameters.\n",
    "2. Your function should call this REST web service\n",
    "3. Then your function will need to interpret the JSON it gets and return just the name of the hospital\n",
    "4. If anything fails, return None without raising any exceptions\n",
    "5. Include a good docstring with at least five test cases.\n"
   ]
  },
  {
   "cell_type": "code",
   "execution_count": 11,
   "metadata": {},
   "outputs": [
    {
     "data": {
      "text/plain": [
       "TestResults(failed=0, attempted=9)"
      ]
     },
     "execution_count": 11,
     "metadata": {},
     "output_type": "execute_result"
    }
   ],
   "source": [
    "def find_hospital(age, sex, risk):\n",
    "  \"\"\"\n",
    "  The find_hospital function takes the age, sex and risk and gets the hospital name by triggering the \"https://oumdj6oci2.execute-api.us-east-1.amazonaws.com/prd/\" with the given args and then returns the name of the hospital after parsing the json. \n",
    "  \n",
    "  Parameters: \n",
    "    sex (stirng) : gender of the input person\n",
    "    age (integer) : age of the person in years\n",
    "    risk(float) : risk returned from the priest function.\n",
    "\n",
    "  Returns:\n",
    "    The hospital name matching with given parameters after triggering the URL(which has the whole logic)\n",
    "\n",
    "  >>> find_hospital(40, \"male\", 0.1)\n",
    "  'Southwest Hospital and Medical Center'\n",
    "  >>> find_hospital(40, \"female\", 0.26)\n",
    "  'Select Specialty Hospital - Northeast Atlanta'\n",
    "  >>> find_hospital(30, \"male\", 0.18)\n",
    "  'Southwest Hospital and Medical Center'\n",
    "  >>> find_hospital(22, \"female\", 0.59)\n",
    "  'Emory Dunwoody Medical Center'\n",
    "  >>> find_hospital(65, \"male\", 0.99)\n",
    "  'Wesley Woods Geriatric Hospital'\n",
    "  \"\"\"\n",
    "  get_details_url=\"https://oumdj6oci2.execute-api.us-east-1.amazonaws.com/prd/?age=\" + str(age) + \"&sex=\" + sex + \"&risk_pct=\" + str(risk)\n",
    "  request_get_details = requests.get(get_details_url).json() \n",
    "  if not request_get_details: return None\n",
    "  else: hospital = request_get_details['hospital'] \n",
    "  return hospital\n",
    "\n",
    "import doctest\n",
    "doctest.testmod()"
   ]
  },
  {
   "cell_type": "markdown",
   "metadata": {},
   "source": [
    "## Part 3: Get the address for that hospital from a webpage\n",
    "\n",
    "Great! Now we have code to tell us which hospital to send someone to... but we don't know where that hospital is. The next function we need to create is one that looks up the address of that hospital.  All of these hospitals are in Atlanta, Georgia.  We're going to use the list on this webpage to lookup the address for that hospital, based on its name.\n",
    "\n",
    "https://www.officialusa.com/stateguides/health/hospitals/georgia.html\n",
    "\n",
    "1. You need to create a function called **get_address()** that takes hospital name as a parameter and searches the data on the webpage above to find the addres for that hospital.\n",
    "2. I've said that all the hospitals are in Atlanta, but this webpage has hospitals from all of Georgia.  So, make sure you verify that the row of data you're using is in Atlanta, just in case there are hospitals with the same name in different cities.\n",
    "3. Your code will have to parse the HTML on the webpage and turn that into some kind of data structure that you can search through to find the right hospital.\n",
    "4. If you do find more than one matching hospital in Atlanta with the same name, you should raise a KeyError.\n",
    "5. If the hospital name isn't found, the function should raise a KeyError.\n",
    "6. Be sure to use good docstring documentation and includes at least 3 test cases."
   ]
  },
  {
   "cell_type": "code",
   "execution_count": 12,
   "metadata": {},
   "outputs": [
    {
     "data": {
      "text/plain": [
       "TestResults(failed=0, attempted=12)"
      ]
     },
     "execution_count": 12,
     "metadata": {},
     "output_type": "execute_result"
    }
   ],
   "source": [
    "atlanta_hospitals_address = {}\n",
    "\n",
    "def get_address(name):\n",
    "    \"\"\"\n",
    "    The get_address function takes in the name of the hospital and returns the address of the hospital with utilization of the data at \"https://www.officialusa.com/stateguides/health/hospitals/georgia.html\"\n",
    "\n",
    "    Parameters:\n",
    "      name (string): name of the hospital\n",
    "    \n",
    "    Returns:\n",
    "      The address of the hospital given\n",
    "\n",
    "    >>> get_address(\"CHARTER BEHAVIORAL HEALTH SYSTEM OF ATLANTA\")\n",
    "    '811 JUNIPER STREET NE'\n",
    "    >>> get_address(\"SELECT SPECIALTY HOSPITAL - ATLANTA\")\n",
    "    '550 PEACHTREE STREET, NE'\n",
    "    >>> get_address(\"SELECT SPECIALTY HOSPITAL - MIDTOWN ATLANTA\")\n",
    "    '705 JUNIPER STREET NE'\n",
    "    \"\"\"\n",
    "    name = name.upper()\n",
    "    if name in atlanta_hospitals_address: return atlanta_hospitals_address[name]\n",
    "    response = requests.get(\"https://www.officialusa.com/stateguides/health/hospitals/georgia.html\")\n",
    "    res_content = BS(response.content,'html5lib')\n",
    "\n",
    "    georgia_table = res_content.find('table',attrs={'id':'myTable'})\n",
    "    all_rows = georgia_table.findChildren('tr')[1:]\n",
    "\n",
    "    for row in all_rows:\n",
    "        children = row.findChildren('td')\n",
    "        state = [child.string for child in children]\n",
    "        if state[0] == 'ATLANTA': atlanta_hospitals_address[state[1]] = state[3]\n",
    "            \n",
    "    return atlanta_hospitals_address[name]\n",
    "\n",
    "import doctest\n",
    "doctest.testmod()"
   ]
  },
  {
   "cell_type": "markdown",
   "metadata": {},
   "source": [
    "## Part 4: Run the risk calculator on a population\n",
    "\n",
    "The `/data` folder has a file called `people.psv`.  It is a pipe-delimited (`|`) file with columns that match the inputs for the PRIEST calculation above.\n",
    "\n",
    "In addition, the file has a patient identifier in the first column.\n",
    "\n",
    "1. Write a function called **process_people()** that takes a file name as a parameter. Your Python program should use your code above to process all of these rows, determine the hospital and address, and return a list whose items are a dictionary like `{ patient_number: [sex, age, breath, o2sat, heart, systolic, temp, alertness, inspired, status, hospital, address]}`\n",
    "2. Be sure to use good docstrings, but you don't need any tests in your doc strings.  I've provided those for you below.\n",
    "\n",
    "\n",
    "**NOTE** that when running your code for all the 100 records in the `people.psv` file, it may take a few minutes to complete.  You're making multiple calls to the internet for each record, so that can take a little while.\n"
   ]
  },
  {
   "cell_type": "code",
   "execution_count": 13,
   "metadata": {},
   "outputs": [],
   "source": [
    "import pandas as pd\n",
    "def process_people(file_name):\n",
    "    #path=os.path.join(\"./data\",file_name)\n",
    "    df = pd.read_csv(open(file_name,'r'),sep=\"|\")\n",
    "    all_info = dict()\n",
    "    for i in range(len(df)):\n",
    "        row = df.iloc[i]\n",
    "        calc_risk = priest(row.sex, row.age, row.breath, row['o2 sat'], row.heart, row['systolic bp'], row.temp, row.alertness, row.inspired, row.status)\n",
    "        hospital = find_hospital(row.age, row.sex, calc_risk)\n",
    "        address = get_address(hospital)\n",
    "        all_info[row.patient]=[row.sex, row.age, row.breath, row['o2 sat'], row.heart, row['systolic bp'], row.temp, row.alertness, row.inspired, row.status, calc_risk, hospital, address]\n",
    "    return all_info"
   ]
  },
  {
   "cell_type": "markdown",
   "metadata": {},
   "source": [
    "## Part 5: Checking your final results\n",
    "\n",
    "The final step is to check your results.  You should be able to compare your results to the output in `people_results.json` in the `/data` folder.  Write some code to check your results.  This does not need to be a function."
   ]
  },
  {
   "cell_type": "code",
   "execution_count": 14,
   "metadata": {},
   "outputs": [
    {
     "data": {
      "text/plain": [
       "True"
      ]
     },
     "execution_count": 14,
     "metadata": {},
     "output_type": "execute_result"
    }
   ],
   "source": [
    "expected_outputs=json.load(open(\"../data/people_results.json\",'r'))\n",
    "expected_outputs == process_people(\"../data/people.psv\")"
   ]
  },
  {
   "cell_type": "code",
   "execution_count": null,
   "metadata": {},
   "outputs": [],
   "source": []
  },
  {
   "cell_type": "markdown",
   "metadata": {},
   "source": [
    "---\n",
    "\n",
    "## Check your work above\n",
    "\n",
    "If you didn't get them all correct, take a few minutes to think through those that aren't correct.\n",
    "\n",
    "\n",
    "## Submitting Your Work\n",
    "\n",
    "In order to submit your work, you'll need to use the `git` command line program to **add** your homework file (this file) to your local repository, **commit** your changes to your local repository, and then **push** those changes up to github.com.  From there, I'll be able to **pull** the changes down and do my grading.  I'll provide some feedback, **commit** and **push** my comments back to you.  Next week, I'll show you how to **pull** down my comments.\n",
    "\n",
    "To run through everything one last time and submit your work:\n",
    "1. Use the `Kernel` -> `Restart Kernel and Run All Cells` menu option to run everything from top to bottom and stop here.\n",
    "2. Follow the instruction on the prompt below to either ssave and submit your work, or continue working.\n",
    "\n",
    "If anything fails along the way with this submission part of the process, let me know.  I'll help you troubleshoort."
   ]
  },
  {
   "cell_type": "markdown",
   "metadata": {},
   "source": [
    "---"
   ]
  },
  {
   "cell_type": "code",
   "execution_count": 16,
   "metadata": {
    "jupyter": {
     "source_hidden": true
    }
   },
   "outputs": [
    {
     "name": "stdin",
     "output_type": "stream",
     "text": [
      "\n",
      "Are you ready to submit your work?\n",
      "1. Click the Save icon (or do Ctrl-S / Cmd-S)\n",
      "2. Type \"yes\" or \"no\" below\n",
      "3. Press Enter\n",
      "\n",
      " yes\n"
     ]
    },
    {
     "name": "stdout",
     "output_type": "stream",
     "text": [
      "On branch main\n",
      "Your branch is up to date with 'origin/main'.\n",
      "\n",
      "Untracked files:\n",
      "\t\u001b[31mUntitled.ipynb\u001b[m\n",
      "\t\u001b[31mUntitled1.ipynb\u001b[m\n",
      "\t\u001b[31mapache_patients.csv\u001b[m\n",
      "\t\u001b[31mapache_rules.json\u001b[m\n",
      "\t\u001b[31mextra-2022.ipynb\u001b[m\n",
      "\t\u001b[31mweek 03/week03_class.ipynb\u001b[m\n",
      "\t\u001b[31mweek 04/week04_examples.ipynb\u001b[m\n",
      "\t\u001b[31mweek 04/week04_lookups.ipynb\u001b[m\n",
      "\t\u001b[31mweek 05/\u001b[m\n",
      "\t\u001b[31mweek 06/module29-xml-examples.ipynb\u001b[m\n",
      "\t\u001b[31mweek 06/week06_inclass_1.ipynb\u001b[m\n",
      "\t\u001b[31mweek 10/\u001b[m\n",
      "\t\u001b[31mweek02/\u001b[m\n",
      "\n",
      "nothing added to commit but untracked files present\n",
      "Everything up-to-date\n"
     ]
    }
   ],
   "source": [
    "a=input('''\n",
    "Are you ready to submit your work?\n",
    "1. Click the Save icon (or do Ctrl-S / Cmd-S)\n",
    "2. Type \"yes\" or \"no\" below\n",
    "3. Press Enter\n",
    "\n",
    "''')\n",
    "\n",
    "if a=='yes':\n",
    "    !git add \"midterm-2022.ipynb\"\n",
    "    !git commit -a -m \"Submitting the midterm\"\n",
    "    !git push\n",
    "else:\n",
    "    print('''\n",
    "    \n",
    "OK. We can wait.\n",
    "''')"
   ]
  },
  {
   "cell_type": "code",
   "execution_count": null,
   "metadata": {},
   "outputs": [],
   "source": []
  }
 ],
 "metadata": {
  "kernelspec": {
   "display_name": "Python 3",
   "language": "python",
   "name": "python3"
  },
  "language_info": {
   "codemirror_mode": {
    "name": "ipython",
    "version": 3
   },
   "file_extension": ".py",
   "mimetype": "text/x-python",
   "name": "python",
   "nbconvert_exporter": "python",
   "pygments_lexer": "ipython3",
   "version": "3.6.7"
  }
 },
 "nbformat": 4,
 "nbformat_minor": 4
}
