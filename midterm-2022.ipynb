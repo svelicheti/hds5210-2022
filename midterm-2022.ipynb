{
 "cells": [
  {
   "cell_type": "markdown",
   "metadata": {},
   "source": [
    "# HDS5210-2022 Midterm\n",
    "\n",
    "In the midterm, you're going to use all of the programming and data management skills you've developed so far to build a risk calculator that pretends to be integrated with a clinical registry.  You'll compute the PRIEST COVID-19 Clinical Severity Score for a series of patients and, based on their risk of an adverse outcome, query a REST web service to find a hospital to transfer them to. The end result of your work will be a list of instructions on where each patient should be discharged: \"home\" if they are below 30% risk and the recommended hospital if they are at or above 30%.\n",
    "\n",
    "Each step in the midterm will build up to form your final solution. Along the way, I've provided plenty of test cases to make sure that you're getting those steps correct.\n",
    "\n",
    "The midterm is due at 11:59 PM CST on Monday, March 14th.\n",
    "\n",
    "---"
   ]
  },
  {
   "cell_type": "markdown",
   "metadata": {},
   "source": [
    "## Step 1: Calculate PRIEST Clinical Severity Score\n",
    "\n",
    "This scoring algorithm can be found [here on the MDCalc website](https://www.mdcalc.com/priest-covid-19-clinical-severity-score#evidence).  \n",
    "\n",
    "1. You will need to write a function called **priest()** with the following input parameters.  \n",
    " * Sex\n",
    " * Age in years\n",
    " * Respiratory rate in breaths per minute\n",
    " * Oxygen saturation as a percent between 0 and 1\n",
    " * Heart rate in beats per minute\n",
    " * Systolic BP in mmHg\n",
    " * Temperature in degrees C\n",
    " * Alertness as a string description\n",
    " * Inspired Oxygen as as string description\n",
    " * Performance Status as a string description\n",
    "2. The function will need to follow the algorithm provided on the MDCalc website to compute a risk percentage that should be returned as a numeric value between 0 and 1.\n",
    "3. Be sure to use docstring documentation and at least three built-in docstring test cases.\n",
    "4. Assume that the input values that are strings could be any combination of upper or lower case. For example: 'male', 'Male', 'MALE', 'MalE' should all be interpretted by your code as male.\n",
    "5. If any of the inputs are invalid (for example a sex value that is not recognizable as male or female) your code should raise a ValueException that includes a message with the invalid input and which parameter that input was provided as.\n",
    "\n",
    "NOTES:\n",
    "1. In the final step there is a rule to convert form raw score to percentile.  In that conversion, 17-25 maps to 59-88% and ≥26 maps to >99%.  For our purposes, we want these to be specific % number outputs.  Use the following rule:\n",
    " * If score is between 17 and 25, percentile should be 0.59\n",
    " * If score is greater than or equal to 26, percentile should be 0.99\n"
   ]
  },
  {
   "cell_type": "code",
   "execution_count": 1,
   "metadata": {},
   "outputs": [],
   "source": [
    "import requests\n",
    "import json\n",
    "import html5lib\n",
    "import os\n",
    "import pandas as pd\n",
    "from bs4 import BeautifulSoup as BS"
   ]
  },
  {
   "cell_type": "code",
   "execution_count": 2,
   "metadata": {},
   "outputs": [],
   "source": [
    "def priest(Sex,Age,Rrate,Spo2,Hrate,Bpressure,Temperature,Alertness,InspiredOxygen,Performance):\n",
    "    final_score=0\n",
    "    \n",
    "    #SEX\n",
    "    Sex=Sex.upper()\n",
    "    if Sex==\"MALE\":\n",
    "        final_score+=1;\n",
    "    elif Sex!=\"FEMALE\":\n",
    "        print(\"Wrong Gender\")\n",
    "        return -1\n",
    "        \n",
    "        \n",
    "    #respiratory rate\n",
    "    if Rrate<9:\n",
    "        final_score+=3\n",
    "    elif Rrate>=9 and Rrate<=11:\n",
    "        final_score+=1\n",
    "    elif Rrate>=12 and Rrate<=20:\n",
    "        final_score+=0\n",
    "    elif Rrate>=21 and Rrate<=24:\n",
    "        final_score+=2\n",
    "    else:\n",
    "        final_score+=3\n",
    "        \n",
    "    #Oxygen saturation\n",
    "    if Spo2<=95 and Spo2>=94:\n",
    "        final_score+=1\n",
    "    elif Spo2<=93 and Spo2>=92:\n",
    "        final_score+=2\n",
    "    elif Spo2<92:\n",
    "        final_score+=3\n",
    "        \n",
    "    #Heart rate\n",
    "    if Hrate<41:\n",
    "        final_score+=3\n",
    "    elif Hrate>=41 and Hrate<=50:\n",
    "        final_score+=1\n",
    "    elif Hrate>=51 and Hrate<=90:\n",
    "        final_score+=0\n",
    "    elif Hrate>=91 and Hrate<=110:\n",
    "        final_score+=1\n",
    "    elif Hrate>=111 and Hrate<=130:\n",
    "        final_score+=2\n",
    "    elif Hrate>130:\n",
    "        final_score+=3\n",
    "    \n",
    "    if Temperature<35.1:\n",
    "        final_score+=3\n",
    "    elif Temperature>=35.1 and Temperature<=36.0:\n",
    "        final_score+=1\n",
    "    elif Temperature>=36.1 and Temperature<=38.0:\n",
    "        final_score+=0\n",
    "    elif Temperature>=38.1 and Temperature<=39.0:\n",
    "        final_score+=1\n",
    "        \n",
    "        \n",
    "    #Blood pressure in mmHg\n",
    "    if Bpressure<91:\n",
    "        final_score+=3\n",
    "    elif Bpressure>=91 and Bpressure<=100:\n",
    "        final_score+=2\n",
    "    elif Bpressure>=101 and Bpressure<=110:\n",
    "        final_score+=1\n",
    "    elif Bpressure>=111 and Bpressure<=219:\n",
    "        final_score+=0\n",
    "    else:\n",
    "        final_score+=3\n",
    "        \n",
    "    \n",
    "        \n",
    "    #Alertness\n",
    "    Alertness=Alertness.upper()\n",
    "    \n",
    "    if Alertness==\"ALERT\":\n",
    "        final_score+=0\n",
    "    else:\n",
    "        final_score+=3\n",
    "        \n",
    "    #Inspired Oxygen\n",
    "    InspiredOxygen=InspiredOxygen.upper()\n",
    "    if InspiredOxygen==\"AIR\":\n",
    "        final_score+=0\n",
    "    else:\n",
    "        final_score+=2\n",
    "        \n",
    "    Performance=Performance.upper()\n",
    "    \n",
    "    if Performance==\"Unrestricted normal activity\".upper():\n",
    "        final_score+=0\n",
    "    elif Performance==\"Limited strenuous activity, can do light activity\".upper():\n",
    "        final_score+=1\n",
    "        \n",
    "    elif Performance==\"Limited activity, can self-care\".upper():\n",
    "        final_score+=2\n",
    "    elif Performance==\"Limited self-care\".upper():\n",
    "        final_score+=3\n",
    "    elif Performance==\"Bed/chair bound, no self-care\".upper():\n",
    "        final_score+=4\n",
    "    \n",
    "    if Age<50:\n",
    "        final_score+=0\n",
    "    elif Age>=50 and Age<=65:\n",
    "        final_score+=2\n",
    "    elif Age>=66 and Age<=80:\n",
    "        final_score+=3\n",
    "    else:\n",
    "        final_score+=4\n",
    "    \n",
    "    conversion=[1,1,2,2,3,9,15,18,22,26,29,34,38,46,47,49,55]\n",
    "    \n",
    "    if final_score<=16:\n",
    "        return conversion[final_score]\n",
    "    elif final_score>=17 and final_score<=25:\n",
    "        return 59\n",
    "    return 99"
   ]
  },
  {
   "cell_type": "markdown",
   "metadata": {},
   "source": [
    "## Part 2: Find a hospital\n",
    "\n",
    "The next thing we have to do is figure out where to send this particular patient.  The guidelines on where to send a patient are based on their age (pediatric, adult, geriatric), sex, and risk percentage.  Luckily, you don't have to implement these rules. I already have. All you have to do is use a REST web service that I've created for you.\n",
    "\n",
    "You'll want to use Python to make a call to my REST web service similar to the example URL below. The first part of the URL will be the same for everyone and every request that you make. What you will need to modify for each of your requests is the information after the question mark.\n",
    "\n",
    "```\n",
    "https://oumdj6oci2.execute-api.us-east-1.amazonaws.com/prd/?age=40&sex=male&risk_pct=0.1\n",
    "```\n",
    "\n",
    "The example above asks my web service where a 40-year old male with a risk percetage of 10% should go.  What the web service will return back is a JSON string containing the information you need.  That JSON will look like this:\n",
    "\n",
    "```json\n",
    "{\n",
    "  \"age\": \"40\",\n",
    "  \"sex\": \"male\",\n",
    "  \"risk\": \"0.1\",\n",
    "  \"hospital\": \"Southwest Hospital and Medical Center\"\n",
    "}\n",
    "```\n",
    "\n",
    "1. Your job is to write a function called **find_hospital()** that takes age, sex, and risk as parameters.\n",
    "2. Your function should call this REST web service\n",
    "3. Then your function will need to interpret the JSON it gets and return just the name of the hospital\n",
    "4. If anything fails, return None without raising any exceptions\n",
    "5. Include a good docstring with at least five test cases.\n"
   ]
  },
  {
   "cell_type": "code",
   "execution_count": 3,
   "metadata": {},
   "outputs": [],
   "source": [
    "def find_hospital(age,sex,risk):\n",
    "    url=\"https://oumdj6oci2.execute-api.us-east-1.amazonaws.com/prd/?age=\"+str(age)+\"&sex=\"+sex+\"&risk_pct=\"+str(risk)\n",
    "    \n",
    "    return requests.get(url).json()['hospital']"
   ]
  },
  {
   "cell_type": "markdown",
   "metadata": {},
   "source": [
    "## Part 3: Get the address for that hospital from a webpage\n",
    "\n",
    "Great! Now we have code to tell us which hospital to send someone to... but we don't know where that hospital is. The next function we need to create is one that looks up the address of that hospital.  All of these hospitals are in Atlanta, Georgia.  We're going to use the list on this webpage to lookup the address for that hospital, based on its name.\n",
    "\n",
    "https://www.officialusa.com/stateguides/health/hospitals/georgia.html\n",
    "\n",
    "1. You need to create a function called **get_address()** that takes hospital name as a parameter and searches the data on the webpage above to find the addres for that hospital.\n",
    "2. I've said that all the hospitals are in Atlanta, but this webpage has hospitals from all of Georgia.  So, make sure you verify that the row of data you're using is in Atlanta, just in case there are hospitals with the same name in different cities.\n",
    "3. Your code will have to parse the HTML on the webpage and turn that into some kind of data structure that you can search through to find the right hospital.\n",
    "4. If you do find more than one matching hospital in Atlanta with the same name, you should raise a KeyError.\n",
    "5. If the hospital name isn't found, the function should raise a KeyError.\n",
    "6. Be sure to use good docstring documentation and includes at least 3 test cases."
   ]
  },
  {
   "cell_type": "code",
   "execution_count": 4,
   "metadata": {},
   "outputs": [],
   "source": [
    "name_to_address={}\n",
    "\n",
    "def get_address(name):\n",
    "    \n",
    "    name=name.upper()\n",
    "    # Data is there in buffer\n",
    "    if bool(name_to_address):\n",
    "        if name in name_to_address:\n",
    "            return name_to_address[name]\n",
    "        else:\n",
    "            return \"Error!!\"\n",
    "    \n",
    "    #Else data is fetched in name_to_address dict and address is returned.\n",
    "    url=\"https://www.officialusa.com/stateguides/health/hospitals/georgia.html\"\n",
    "    response=requests.get(url)\n",
    "    soup=BS(response.content,'html5lib')\n",
    "\n",
    "    table=soup.find('table',attrs={'id':'myTable'})\n",
    "    rows=table.findChildren('tr')[1:]\n",
    "\n",
    "\n",
    "    for row in rows:\n",
    "        cells=row.findChildren('td')\n",
    "        data=[ cell.string for cell in cells]\n",
    "\n",
    "        if data[0]=='ATLANTA':\n",
    "            name_to_address[data[1]]=data[3]\n",
    "            \n",
    "    return get_address(name)"
   ]
  },
  {
   "cell_type": "markdown",
   "metadata": {},
   "source": [
    "## Part 4: Run the risk calculator on a population\n",
    "\n",
    "The `/data` folder has a file called `people.psv`.  It is a pipe-delimited (`|`) file with columns that match the inputs for the PRIEST calculation above.\n",
    "\n",
    "In addition, the file has a patient identifier in the first column.\n",
    "\n",
    "1. Write a function called **process_people()** that takes a file name as a parameter. Your Python program should use your code above to process all of these rows, determine the hospital and address, and return a list whose items are a dictionary like `{ patient_number: [sex, age, breath, o2sat, heart, systolic, temp, alertness, inspired, status, hospital, address]}`\n",
    "2. Be sure to use good docstrings, but you don't need any tests in your doc strings.  I've provided those for you below.\n",
    "\n",
    "\n",
    "**NOTE** that when running your code for all the 100 records in the `people.psv` file, it may take a few minutes to complete.  You're making multiple calls to the internet for each record, so that can take a little while.\n"
   ]
  },
  {
   "cell_type": "code",
   "execution_count": 5,
   "metadata": {},
   "outputs": [],
   "source": [
    "def process_people(file_name):\n",
    "    path=os.path.join(\"./data\",file_name)\n",
    "    dataframe=pd.read_csv(open(path,'r'),sep=\"|\")\n",
    "    \n",
    "    output={}\n",
    "    data_len=len(dataframe)\n",
    "    \n",
    "    for i in range(data_len):\n",
    "        r=dataframe.iloc[i]\n",
    "        risk=priest(r.sex,r.age,r.breath,r['o2 sat']*100.0,r.heart,r['systolic bp'],r.temp,r.alertness,r.inspired,r.status)/100.0\n",
    "        hospital=find_hospital(r.age,r.sex,risk)\n",
    "        address=get_address(hospital)\n",
    "        \n",
    "        output[r.patient]=[r.sex,r.age,r.breath,r['o2 sat'],r.heart,r['systolic bp'],r.temp,r.alertness,r.inspired,r.status,risk,hospital,address]\n",
    "    return output"
   ]
  },
  {
   "cell_type": "markdown",
   "metadata": {},
   "source": [
    "## Part 5: Checking your final results\n",
    "\n",
    "The final step is to check your results.  You should be able to compare your results to the output in `people_results.json` in the `/data` folder.  Write some code to check your results.  This does not need to be a function."
   ]
  },
  {
   "cell_type": "code",
   "execution_count": 6,
   "metadata": {},
   "outputs": [],
   "source": [
    "path=os.path.join(\"../data\",\"people_results.json\")\n",
    "expected_outputs=json.load(open(path,'r'))"
   ]
  },
  {
   "cell_type": "code",
   "execution_count": 7,
   "metadata": {},
   "outputs": [
    {
     "data": {
      "text/plain": [
       "99"
      ]
     },
     "execution_count": 7,
     "metadata": {},
     "output_type": "execute_result"
    }
   ],
   "source": [
    "len(expected_outputs)"
   ]
  },
  {
   "cell_type": "markdown",
   "metadata": {},
   "source": [
    "---\n",
    "\n",
    "## Check your work above\n",
    "\n",
    "If you didn't get them all correct, take a few minutes to think through those that aren't correct.\n",
    "\n",
    "\n",
    "## Submitting Your Work\n",
    "\n",
    "In order to submit your work, you'll need to use the `git` command line program to **add** your homework file (this file) to your local repository, **commit** your changes to your local repository, and then **push** those changes up to github.com.  From there, I'll be able to **pull** the changes down and do my grading.  I'll provide some feedback, **commit** and **push** my comments back to you.  Next week, I'll show you how to **pull** down my comments.\n",
    "\n",
    "To run through everything one last time and submit your work:\n",
    "1. Use the `Kernel` -> `Restart Kernel and Run All Cells` menu option to run everything from top to bottom and stop here.\n",
    "2. Follow the instruction on the prompt below to either ssave and submit your work, or continue working.\n",
    "\n",
    "If anything fails along the way with this submission part of the process, let me know.  I'll help you troubleshoort."
   ]
  },
  {
   "cell_type": "markdown",
   "metadata": {},
   "source": [
    "---"
   ]
  },
  {
   "cell_type": "code",
   "execution_count": null,
   "metadata": {
    "jupyter": {
     "source_hidden": true
    }
   },
   "outputs": [],
   "source": [
    "a=input('''\n",
    "Are you ready to submit your work?\n",
    "1. Click the Save icon (or do Ctrl-S / Cmd-S)\n",
    "2. Type \"yes\" or \"no\" below\n",
    "3. Press Enter\n",
    "\n",
    "''')\n",
    "\n",
    "if a=='yes':\n",
    "    !git add \"midterm-2022.ipynb\"\n",
    "    !git commit -a -m \"Submitting the midterm\"\n",
    "    !git push\n",
    "else:\n",
    "    print('''\n",
    "    \n",
    "OK. We can wait.\n",
    "''')"
   ]
  },
  {
   "cell_type": "code",
   "execution_count": null,
   "metadata": {},
   "outputs": [],
   "source": []
  }
 ],
 "metadata": {
  "kernelspec": {
   "display_name": "Python 3",
   "language": "python",
   "name": "python3"
  },
  "language_info": {
   "codemirror_mode": {
    "name": "ipython",
    "version": 3
   },
   "file_extension": ".py",
   "mimetype": "text/x-python",
   "name": "python",
   "nbconvert_exporter": "python",
   "pygments_lexer": "ipython3",
   "version": "3.6.7"
  }
 },
 "nbformat": 4,
 "nbformat_minor": 4
}
