{
 "cells": [
  {
   "cell_type": "markdown",
   "metadata": {},
   "source": [
    "# Week 7 Assignment\n",
    "\n",
    "_MkKinney 6.1_\n",
    "\n",
    "This week has been all about getting information off the internet both in structured data formats (CSV, JSON, etc) as well as HTML.  For these exercises, we're going to use two practical examples of fetching data from web pages to show how to use Pandas and BeautifulSoup to extract structured information from the web.\n",
    "\n",
    "---\n",
    "---"
   ]
  },
  {
   "cell_type": "markdown",
   "metadata": {},
   "source": [
    "### 33.1 Parsing a list in HTML\n",
    "\n",
    "Go to the Banner Health Price Transparency Page: https://www.bannerhealth.com/patients/billing/pricing-resources/hospital-price-transparency\n",
    "\n",
    "Notice that there is a list of hospitals and the city they are in.  We want to parse the underlying HTML to create a list of all the hospitals along with which city they're in.\n",
    "\n",
    "```json\n",
    "[\n",
    "    [\"Banner - University Medical Center Phoenix\", \"Arizona\"],\n",
    "    [\"Banner - University Medical Center South \", \"Arizona\"],\n",
    "    ...\n",
    "]\n",
    "```\n",
    "\n",
    "To examine the underlying HTML code, you can use Chrome, right-click, and choose **Inspect**.\n",
    "\n",
    "For reference, the documentation for BeautifulSoup is here: https://www.crummy.com/software/BeautifulSoup/bs4/doc/\n"
   ]
  },
  {
   "cell_type": "markdown",
   "metadata": {},
   "source": [
    "In the cell below, create a function called **parse_banner(url)** that takes as it's one parameter the URL of the webpage to be parsed for links.  Make sure you include docstrings and a good test case using hte URL provided above."
   ]
  },
  {
   "cell_type": "code",
   "execution_count": 1,
   "metadata": {},
   "outputs": [
    {
     "data": {
      "text/plain": [
       "<Response [200]>"
      ]
     },
     "execution_count": 1,
     "metadata": {},
     "output_type": "execute_result"
    }
   ],
   "source": [
    "from bs4 import BeautifulSoup\n",
    "import requests\n",
    "\n",
    "# Note that you'll need to fetch the data using the following syntax to include headers\n",
    "# that make the web server think you're a real web browser.\n",
    "headers = { \"User-Agent\": \"Mozilla/5.0 (Macintosh; Intel Mac OS X 11_2_3) AppleWebKit/537.36 (KHTML, like Gecko) Chrome/89.0.4389.90 Safari/537.36\" }\n",
    "url = \"https://www.bannerhealth.com/patients/billing/pricing-resources/hospital-price-transparency\"\n",
    "response = requests.get(url, headers=headers)\n",
    "response\n",
    "\n"
   ]
  },
  {
   "cell_type": "code",
   "execution_count": 2,
   "metadata": {},
   "outputs": [],
   "source": [
    "from bs4 import NavigableString\n",
    "def parse_banner(url):\n",
    "    headers = { \"User-Agent\": \"Mozilla/5.0 (Macintosh; Intel Mac OS X 11_2_3) AppleWebKit/537.36 (KHTML, like Gecko) Chrome/89.0.4389.90 Safari/537.36\" }\n",
    "    response = requests.get(url, headers=headers)\n",
    "    soup_data = BeautifulSoup(response.text, 'html.parser')\n",
    "    result = []\n",
    "    for tag in soup_data.find_all(\"strong\"):\n",
    "        city_name = tag.text\n",
    "        if isinstance(tag.next_element.next_element.next_element, NavigableString):\n",
    "            continue\n",
    "        #print(tag.next_element.next_element.next_element)\n",
    "        tmp_list = tag.next_element.next_element.next_element.text.split(\"\\n\")\n",
    "        for hosp_name in tmp_list:\n",
    "            if hosp_name != '':\n",
    "                result.append([hosp_name, city_name])\n",
    "    return result\n"
   ]
  },
  {
   "cell_type": "code",
   "execution_count": 3,
   "metadata": {},
   "outputs": [
    {
     "data": {
      "text/plain": [
       "[['Banner - University Medical Center Phoenix', 'Arizona'],\n",
       " ['Banner - University Medical Center South\\xa0', 'Arizona'],\n",
       " ['Banner - University Medical Center Tucson', 'Arizona'],\n",
       " ['Banner Baywood Medical Center\\xa0', 'Arizona'],\n",
       " ['Banner Behavioral Health Hospital', 'Arizona'],\n",
       " ['Banner Boswell Medical Center', 'Arizona'],\n",
       " ['Banner Casa Grande Medical Center', 'Arizona'],\n",
       " ['Banner Del E. Webb Medical Center', 'Arizona'],\n",
       " [\"Banner Desert Medical Center/Cardon Children's Medical Center\\xa0\\xa0\",\n",
       "  'Arizona'],\n",
       " ['Banner Estrella Medical Center', 'Arizona'],\n",
       " ['Banner Gateway Medical Center/Banner MD Anderson Cancer Center', 'Arizona'],\n",
       " ['Banner Goldfield Medical Center\\xa0\\xa0', 'Arizona'],\n",
       " ['Banner Heart Hospital', 'Arizona'],\n",
       " ['Banner Ironwood Medical Center', 'Arizona'],\n",
       " ['Banner Ocotillo Medical Center', 'Arizona'],\n",
       " ['Banner Payson Medical Center', 'Arizona'],\n",
       " ['Banner Rehabilitation Hospitals', 'Arizona'],\n",
       " ['Banner Thunderbird Medical Center', 'Arizona'],\n",
       " ['Page Hospital', 'Arizona'],\n",
       " ['Banner Lassen Medical Center', 'California'],\n",
       " ['Banner Fort Collins Medical Center', 'Colorado'],\n",
       " ['McKee Medical Center', 'Colorado'],\n",
       " ['North Colorado Medical Center', 'Colorado'],\n",
       " ['Sterling Regional Medical Center', 'Colorado'],\n",
       " ['East Morgan County Hospital', 'Colorado'],\n",
       " ['Ogallala Community Hospital', 'Nebraska'],\n",
       " ['Banner Churchill Community Hospital', 'Nevada'],\n",
       " ['Banner Wyoming Medical Center\\xa0Central Campus', 'Wyoming'],\n",
       " ['Banner Wyoming Medical Center East Campus', 'Wyoming'],\n",
       " ['Community Hospital', 'Wyoming'],\n",
       " ['Washakie Medical Center', 'Wyoming'],\n",
       " ['Platte County Memorial Hospital', 'Wyoming']]"
      ]
     },
     "execution_count": 3,
     "metadata": {},
     "output_type": "execute_result"
    }
   ],
   "source": [
    "parse_banner(\"https://www.bannerhealth.com/patients/billing/pricing-resources/hospital-price-transparency\")\n"
   ]
  },
  {
   "cell_type": "code",
   "execution_count": 4,
   "metadata": {},
   "outputs": [
    {
     "data": {
      "text/plain": [
       "[['Banner - University Medical Center Phoenix', 'Arizona'],\n",
       " ['Banner - University Medical Center South\\xa0', 'Arizona'],\n",
       " ['Banner - University Medical Center Tucson', 'Arizona'],\n",
       " ['Banner Baywood Medical Center\\xa0', 'Arizona'],\n",
       " ['Banner Behavioral Health Hospital', 'Arizona'],\n",
       " ['Banner Boswell Medical Center', 'Arizona'],\n",
       " ['Banner Casa Grande Medical Center', 'Arizona'],\n",
       " ['Banner Del E. Webb Medical Center', 'Arizona'],\n",
       " [\"Banner Desert Medical Center/Cardon Children's Medical Center\\xa0\\xa0\",\n",
       "  'Arizona'],\n",
       " ['Banner Estrella Medical Center', 'Arizona'],\n",
       " ['Banner Gateway Medical Center/Banner MD Anderson Cancer Center', 'Arizona'],\n",
       " ['Banner Goldfield Medical Center\\xa0\\xa0', 'Arizona'],\n",
       " ['Banner Heart Hospital', 'Arizona'],\n",
       " ['Banner Ironwood Medical Center', 'Arizona'],\n",
       " ['Banner Ocotillo Medical Center', 'Arizona'],\n",
       " ['Banner Payson Medical Center', 'Arizona'],\n",
       " ['Banner Rehabilitation Hospitals', 'Arizona'],\n",
       " ['Banner Thunderbird Medical Center', 'Arizona'],\n",
       " ['Page Hospital', 'Arizona'],\n",
       " ['Banner Lassen Medical Center', 'California'],\n",
       " ['Banner Fort Collins Medical Center', 'Colorado'],\n",
       " ['McKee Medical Center', 'Colorado'],\n",
       " ['North Colorado Medical Center', 'Colorado'],\n",
       " ['Sterling Regional Medical Center', 'Colorado'],\n",
       " ['East Morgan County Hospital', 'Colorado'],\n",
       " ['Ogallala Community Hospital', 'Nebraska'],\n",
       " ['Banner Churchill Community Hospital', 'Nevada'],\n",
       " ['Banner Wyoming Medical Center\\xa0Central Campus', 'Wyoming'],\n",
       " ['Banner Wyoming Medical Center East Campus', 'Wyoming'],\n",
       " ['Community Hospital', 'Wyoming'],\n",
       " ['Washakie Medical Center', 'Wyoming'],\n",
       " ['Platte County Memorial Hospital', 'Wyoming']]"
      ]
     },
     "execution_count": 4,
     "metadata": {},
     "output_type": "execute_result"
    }
   ],
   "source": [
    "[['Banner - University Medical Center Phoenix', 'Arizona'],\n",
    " ['Banner - University Medical Center South\\xa0', 'Arizona'],\n",
    " ['Banner - University Medical Center Tucson', 'Arizona'],\n",
    " ['Banner Baywood Medical Center\\xa0', 'Arizona'],\n",
    " ['Banner Behavioral Health Hospital', 'Arizona'],\n",
    " ['Banner Boswell Medical Center', 'Arizona'],\n",
    " ['Banner Casa Grande Medical Center', 'Arizona'],\n",
    " ['Banner Del E. Webb Medical Center', 'Arizona'],\n",
    " [\"Banner Desert Medical Center/Cardon Children's Medical Center\\xa0\\xa0\",\n",
    "  'Arizona'],\n",
    " ['Banner Estrella Medical Center', 'Arizona'],\n",
    " ['Banner Gateway Medical Center/Banner MD Anderson Cancer Center', 'Arizona'],\n",
    " ['Banner Goldfield Medical Center\\xa0\\xa0', 'Arizona'],\n",
    " ['Banner Heart Hospital', 'Arizona'],\n",
    " ['Banner Ironwood Medical Center', 'Arizona'],\n",
    " ['Banner Ocotillo Medical Center', 'Arizona'],\n",
    " ['Banner Payson Medical Center', 'Arizona'],\n",
    " ['Banner Rehabilitation Hospitals', 'Arizona'],\n",
    " ['Banner Thunderbird Medical Center', 'Arizona'],\n",
    " ['Page Hospital', 'Arizona'],\n",
    " ['Banner Lassen Medical Center', 'California'],\n",
    " ['Banner Fort Collins Medical Center', 'Colorado'],\n",
    " ['McKee Medical Center', 'Colorado'],\n",
    " ['North Colorado Medical Center', 'Colorado'],\n",
    " ['Sterling Regional Medical Center', 'Colorado'],\n",
    " ['East Morgan County Hospital', 'Colorado'],\n",
    " ['Ogallala Community Hospital', 'Nebraska'],\n",
    " ['Banner Churchill Community Hospital', 'Nevada'],\n",
    " ['Banner Wyoming Medical Center\\xa0Central Campus', 'Wyoming'],\n",
    " ['Banner Wyoming Medical Center East Campus', 'Wyoming'],\n",
    " ['Community Hospital', 'Wyoming'],\n",
    " ['Washakie Medical Center', 'Wyoming'],\n",
    " ['Platte County Memorial Hospital', 'Wyoming']]\n"
   ]
  },
  {
   "cell_type": "code",
   "execution_count": 5,
   "metadata": {},
   "outputs": [
    {
     "name": "stdout",
     "output_type": "stream",
     "text": [
      "Finding tests in NoName\n"
     ]
    }
   ],
   "source": [
    "import doctest\n",
    "doctest.run_docstring_examples(parse_banner, globals(), verbose=True)\n"
   ]
  },
  {
   "cell_type": "code",
   "execution_count": 6,
   "metadata": {},
   "outputs": [],
   "source": [
    "banner = parse_banner('https://www.bannerhealth.com/patients/billing/pricing-resources/hospital-price-transparency')\n",
    "assert len(banner)==32, 'Length of result should have been 32, but {} returned.'.format(len(banner))\n",
    "assert banner[0][1]=='Arizona', 'Wrong data found in the first result item: {}'.format(banner[0])"
   ]
  },
  {
   "cell_type": "markdown",
   "metadata": {},
   "source": [
    "---\n",
    "\n",
    "## 33.2 Using a REST API (from GitHub.com)\n",
    "\n",
    "Many websites provide something called a REST API to access information from their site programatically, rather than relying on HTML.  One example is GitHub.com, whose API allows you do to things like \"list all the public repositories for a user.\"\n",
    "\n",
    "The documentation for GitHub.com's REST API can be found here: https://docs.github.com/en/rest/guides/getting-started-with-the-rest-api\n",
    "\n",
    "Create a function called **repo_summary(user)** that takes a GitHub.com user name as it's parameter and retrieves a list of all the repositories you can see for that user.  The specific documentation for the this kind of request can be found here: https://docs.github.com/en/rest/reference/repos#list-repositories-for-a-user. Make sure your function is well documented with a docstring and includes a simple test to verify that you get back 12 repositories when querying for the repositories for user **paulboal**.\n",
    "\n",
    "I've provided a related example to help you out."
   ]
  },
  {
   "cell_type": "code",
   "execution_count": 7,
   "metadata": {},
   "outputs": [
    {
     "name": "stdout",
     "output_type": "stream",
     "text": [
      "This information is about paulboal. His website is www.amitechsolutions.com.\n"
     ]
    }
   ],
   "source": [
    "# Example -- this example of code shows how to get basic information on the user paulboal\n",
    "# For your solution, make sure you meet the requirements in the instructions above.\n",
    "\n",
    "import requests\n",
    "\n",
    "response = requests.get('https://api.github.com/users/paulboal')\n",
    "data = response.json()\n",
    "\n",
    "print('This information is about {}. His website is {}.'.format(data.get('login'), data.get('blog')))"
   ]
  },
  {
   "cell_type": "code",
   "execution_count": 8,
   "metadata": {},
   "outputs": [],
   "source": [
    "# Your code Here\n",
    "#tmp=requests.get(data.get(\"repos_url\")).json()\n",
    "#for repo in tmp:\n",
    "#    print(repo['name'])\n",
    "def repo_summary(user):\n",
    "    url = 'https://api.github.com/users/{}'.format(user)\n",
    "    data = requests.get(url).json()\n",
    "    repos = requests.get(data.get('repos_url')).json()\n",
    "    repo_names = []\n",
    "    for repo in repos:\n",
    "        repo_names.append(repo.get('name'))\n",
    "    return repo_names\n"
   ]
  },
  {
   "cell_type": "code",
   "execution_count": 9,
   "metadata": {},
   "outputs": [
    {
     "name": "stdout",
     "output_type": "stream",
     "text": [
      "Finding tests in NoName\n"
     ]
    }
   ],
   "source": [
    "import doctest\n",
    "doctest.run_docstring_examples(repo_summary, globals(), verbose=True)"
   ]
  },
  {
   "cell_type": "code",
   "execution_count": 10,
   "metadata": {},
   "outputs": [],
   "source": [
    "repos = repo_summary('paulboal')\n",
    "assert len(repos)==12, 'Expecing 12, but {} were found'.format(len(repos))"
   ]
  },
  {
   "cell_type": "markdown",
   "metadata": {},
   "source": [
    "---\n",
    "\n",
    "### 33.3 Find Something of Your Own\n",
    "\n",
    "Do some web searches and find an HTML page with some data that is interesting to something you're studying.  You can extract and parse that information using either BeautifulSoup or Pandas.  If you're using Pandas, then do something interesting to format and structure your data.  If you're using BeautifulSoup, you'll just need to do the work of parsing the data out of HTML -- that's hard enough!\n",
    "\n",
    "You don't need to build this as a function.  Just use notebook cells as I've done above.  You will be graded based on _style_.  Use variable names that make sense for your problem / solution. Cleanup anything you don't need before you submit your work."
   ]
  },
  {
   "cell_type": "code",
   "execution_count": 11,
   "metadata": {},
   "outputs": [],
   "source": [
    "# Your Code Here"
   ]
  },
  {
   "cell_type": "code",
   "execution_count": 12,
   "metadata": {},
   "outputs": [
    {
     "name": "stdout",
     "output_type": "stream",
     "text": [
      "Amazon suppliers linked to forced labor in China, watchdog group says\n",
      "Rising oil prices could affect thousands of  products \n",
      "McDonald's and other U.S. brands under pressure to stop doing business in Russia \n",
      "Dow drops nearly 800 points as market turmoil continues\n",
      "Supreme Court’s Thomas calls for new look at giving Facebook broad immunity\n",
      "'The Batman' soars to $128.5 million at the North American box office\n",
      "Colorado's mountain communities grapple with shortages as wealthier neighbors move-in\n",
      "Businesses worldwide are cutting off Russian trade\n",
      "In the country's 'homeless capital', doubts grow over whether population will ever be housed\n",
      "Creators of ice cream maintenance device sue McDonald's, allege multimillion-dollar 'repair racket'\n",
      "American whiskey exports starting to rebound after pandemic and Trump's trade war\n",
      "U.S. economy adds 678,000 jobs in February, beating experts' expectations\n",
      "MLB stadium workers react to delayed season as player lockout drags on\n",
      "Airline software giant ends distribution service with Russia’s Aeroflot\n",
      "An American gig work app was accused of working for Russia. Why?\n",
      "Japan court rules American helped former Nissan chief hide payments\n",
      "Will high gas prices supercharge electric vehicle sales? \n",
      "Oil soars as markets, consumers brace for more volatility\n",
      "The U.S. wants to seize Russian oligarchs' yachts, homes and jets. Is that legal?\n",
      "In Mexico, a second major win for independent unions\n",
      "‘It’s a complete black box’: Russian oligarchs pour money into U.S. real estate market\n",
      "How about a sweater with that carton of eggs?\n",
      "Apple halts sales of products to Russia, restricts access to Russian news apps\n",
      "EpiPen maker to pay $264 million to settle lawsuit \n",
      "Infant formula recall expanded following child's death, FDA says\n",
      "Ukraine pushes for cease-fire as fighting rages and sanctions hit Russia's economy\n",
      "Inflation is biggest fear in markets, despite Russian aggression\n",
      "Russian economy spirals into deepening crisis as sanctions send people into panic\n",
      "Target raising wages up to $24 an hour for some workers\n",
      "BP to offload stake in Russia’s Rosneft, cites invasion of Ukraine\n",
      "Will Russia-Ukraine conflict slow summer travel to Europe?\n",
      "Chris Licht to become new CNN president following Jeff Zucker ouster\n",
      "Peloton attempts to find its footing after several high-profile blunders\n",
      "Investor fears over Russia-Ukraine conflict are overblown, experts say\n",
      "Russia-Ukraine conflict impacts U.S. economy\n",
      "Wall Street's wild ride ends the day on an upward note after Biden's speech\n",
      "The Russia-Ukraine conflict will 'test' U.S. consumers on multiple fronts, experts say\n",
      "SWIFT banking system could be used as a sanction against Russia. Here's what it is.\n",
      "Oil prices jump as Russia launches attack on Ukraine\n",
      "Ukraine crisis could create more woes for auto industry\n",
      "An Afro Latina's mission to embrace natural hair gets push from beauty giant \n",
      "Target lifts mask requirements for staff and shoppers\n",
      "Gas prices are on the rise as Russia launches invasion of Ukraine\n",
      "Extended stay hotels play the long game \n",
      "Consumers and markets may be in for wild ride as oil prices rise\n",
      "The case for bitcoin as ‘digital gold’ is falling apart\n",
      "'I would pay anything': Parents needing formula are left empty handed due to shortage\n",
      "Contract worker injured in Louisiana refinery explosion and fire, company says\n",
      "Small businesses say they are hurt by rising costs to advertise on Amazon\n",
      "Founder of collapsed $1.7 billion mutual fund charged with fraud\n",
      "Car buyers trade in haggling for sticker shock\n",
      "Chicago denies permit for scrapyard at heart of 'environmental injustice' battle\n",
      "Ship carrying Porsches, Audis and Bentleys is burning and adrift\n",
      "As food prices increase, store brands may have an advantage\n",
      "Auto industry reconsiders production systems after border protests\n",
      "Retailers embrace new tracking tech on goods to crack down on theft\n",
      "How one family is working to get out of an attic and own a home of their own\n",
      "How one woman aims to cash in on her savings and travel the world\n",
      "Makeup company brings inclusivity to the cosmetics world\n",
      "Charities innovate to meet the challenges of Covid-19\n"
     ]
    }
   ],
   "source": [
    "# using beautiful soup to extract news headlines\n",
    "from datetime import date\n",
    "today = date.today()\n",
    "d = today.strftime(\"%m-%d-%y\")\n",
    "nbc_business = \"https://www.nbcnews.com/business\"\n",
    "res = requests.get(nbc_business)\n",
    "soup = BeautifulSoup(res.content, 'html.parser')\n",
    "headlines = soup.find_all('span',{'class':'tease-card__headline'})\n",
    "len(headlines)\n",
    "for i in range(len(headlines)):\n",
    "    print(headlines[i].text)"
   ]
  },
  {
   "cell_type": "markdown",
   "metadata": {},
   "source": [
    "---\n",
    "\n",
    "## Check your work above\n",
    "\n",
    "If you didn't get them all correct, take a few minutes to think through those that aren't correct.\n",
    "\n",
    "\n",
    "## Submitting Your Work\n",
    "\n",
    "In order to submit your work, you'll need to use the `git` command line program to **add** your homework file (this file) to your local repository, **commit** your changes to your local repository, and then **push** those changes up to github.com.  From there, I'll be able to **pull** the changes down and do my grading.  I'll provide some feedback, **commit** and **push** my comments back to you.  Next week, I'll show you how to **pull** down my comments.\n",
    "\n",
    "To run through everything one last time and submit your work:\n",
    "1. Use the `Kernel` -> `Restart Kernel and Run All Cells` menu option to run everything from top to bottom and stop here.\n",
    "2. Follow the instruction on the prompt below to either ssave and submit your work, or continue working.\n",
    "\n",
    "If anything fails along the way with this submission part of the process, let me know.  I'll help you troubleshoort."
   ]
  },
  {
   "cell_type": "markdown",
   "metadata": {},
   "source": [
    "---"
   ]
  },
  {
   "cell_type": "code",
   "execution_count": null,
   "metadata": {
    "jupyter": {
     "source_hidden": true
    }
   },
   "outputs": [],
   "source": [
    "a=input('''\n",
    "Are you ready to submit your work?\n",
    "1. Click the Save icon (or do Ctrl-S / Cmd-S)\n",
    "2. Type \"yes\" or \"no\" below\n",
    "3. Press Enter\n",
    "\n",
    "''')\n",
    "\n",
    "if a=='yes':\n",
    "    !git add week07_assignment_2.ipynb\n",
    "    !git commit -a -m \"Submitting the week 7 programming exercises\"\n",
    "    !git push\n",
    "else:\n",
    "    print('''\n",
    "    \n",
    "OK. We can wait.\n",
    "''')"
   ]
  },
  {
   "cell_type": "code",
   "execution_count": null,
   "metadata": {},
   "outputs": [],
   "source": []
  }
 ],
 "metadata": {
  "kernelspec": {
   "display_name": "Python 3",
   "language": "python",
   "name": "python3"
  },
  "language_info": {
   "codemirror_mode": {
    "name": "ipython",
    "version": 3
   },
   "file_extension": ".py",
   "mimetype": "text/x-python",
   "name": "python",
   "nbconvert_exporter": "python",
   "pygments_lexer": "ipython3",
   "version": "3.6.7"
  }
 },
 "nbformat": 4,
 "nbformat_minor": 4
}
