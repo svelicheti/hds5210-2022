{
 "cells": [
  {
   "cell_type": "markdown",
   "metadata": {
    "nbgrader": {
     "grade": false,
     "grade_id": "cell-fc1c39d0d6f8b82a",
     "locked": true,
     "schema_version": 1,
     "solution": false
    }
   },
   "source": [
    "# Week 13 Programming Assignment\n",
    "\n",
    "As you're working on identifying data for your final project, it's helpful to spend some time exploring your various data files.  For this week's assignment, I'd like you to take a few of the ideas from the the lectures, review assignment, and tonight's lecture to start exploring the data you plan to use for the final project.\n",
    "\n",
    "For the following activities, you can use just one of the data files that you've identified, or you can do the activities using different data files.  That's up to you.  Please describe what you're doing in a Markdown cell or in the comments of your code.  When you've completed the assignment, submit it as normal."
   ]
  },
  {
   "cell_type": "markdown",
   "metadata": {},
   "source": [
    "### 1. Basic Statistics\n",
    "\n",
    "Use Python to read in your data file and show many rows and columns your data has."
   ]
  },
  {
   "cell_type": "code",
   "execution_count": 1,
   "metadata": {},
   "outputs": [],
   "source": [
    "import pandas as pd\n",
    "data = pd.read_csv(\"HospInfo.csv\")"
   ]
  },
  {
   "cell_type": "code",
   "execution_count": 2,
   "metadata": {},
   "outputs": [
    {
     "data": {
      "text/plain": [
       "(4812, 29)"
      ]
     },
     "execution_count": 2,
     "metadata": {},
     "output_type": "execute_result"
    }
   ],
   "source": [
    "\n",
    "\n",
    "\n",
    "data.shape"
   ]
  },
  {
   "cell_type": "code",
   "execution_count": 3,
   "metadata": {},
   "outputs": [],
   "source": [
    "data['Meets criteria for meaningful use of EHRs'].fillna(True, inplace=True)"
   ]
  },
  {
   "cell_type": "markdown",
   "metadata": {},
   "source": [
    "### 2. Data Diversity\n",
    "\n",
    "Use Python to identify how many unique values each column in your data has.  Use Python to identify which column has the greatest number of distinct values (aka the most diversity)?  If your data has a unique identifier (e.g. a person or visit or record ID) then find the column with the next most number of unique values."
   ]
  },
  {
   "cell_type": "code",
   "execution_count": 4,
   "metadata": {},
   "outputs": [
    {
     "name": "stdout",
     "output_type": "stream",
     "text": [
      "[(4812, 'Provider ID'), (4810, 'Location'), (4793, 'Phone Number'), (4784, 'Address'), (4623, 'Hospital Name'), (4416, 'ZIP Code'), (2947, 'City'), (1564, 'County Name'), (56, 'State'), (10, 'Hospital Ownership'), (6, 'Hospital overall rating footnote'), (6, 'Hospital overall rating'), (4, 'Timeliness of care national comparison footnote'), (4, 'Timeliness of care national comparison'), (4, 'Safety of care national comparison footnote'), (4, 'Safety of care national comparison'), (4, 'Readmission national comparison footnote'), (4, 'Readmission national comparison'), (4, 'Patient experience national comparison footnote'), (4, 'Patient experience national comparison'), (4, 'Mortality national comparison footnote'), (4, 'Mortality national comparison'), (4, 'Efficient use of medical imaging national comparison footnote'), (4, 'Efficient use of medical imaging national comparison'), (4, 'Effectiveness of care national comparison footnote'), (4, 'Effectiveness of care national comparison'), (3, 'Hospital Type'), (2, 'Emergency Services'), (1, 'Meets criteria for meaningful use of EHRs')]\n",
      "(4810, 'Location')\n"
     ]
    }
   ],
   "source": [
    "store = set()\n",
    "store_list = []\n",
    "\n",
    "for j in data.columns:\n",
    "    for i in data.index:\n",
    "        store.add(data[j][i])\n",
    "    store_list.append((len(store), j))\n",
    "    store.clear()\n",
    "store_list = sorted(store_list, reverse = True)\n",
    "print(store_list)\n",
    "print(store_list[1])"
   ]
  },
  {
   "cell_type": "markdown",
   "metadata": {},
   "source": [
    "### 3. Data Redundancy\n",
    "\n",
    "Use Python to identify any columns in your data where the value for every row is the same.  For example, if you had a gender column and all the rows said 'M', then you would want to write the code that helped you determine that."
   ]
  },
  {
   "cell_type": "code",
   "execution_count": 5,
   "metadata": {},
   "outputs": [
    {
     "name": "stdout",
     "output_type": "stream",
     "text": [
      "Meets criteria for meaningful use of EHRs\n"
     ]
    }
   ],
   "source": [
    "store = set()\n",
    "store_list = []\n",
    "\n",
    "for j in data.columns:\n",
    "    for i in data.index:\n",
    "        store.add(data[j][i])\n",
    "    store_list.append((len(store), j))\n",
    "    if len(store) == 1:\n",
    "        print(j)    \n",
    "    store.clear()"
   ]
  },
  {
   "cell_type": "markdown",
   "metadata": {},
   "source": [
    "### 4. Range of Values\n",
    "\n",
    "Your data almost certainly has some numeric columns that can be summed or averaged.  Create a histogram that shows the distribution of values for this column."
   ]
  },
  {
   "cell_type": "code",
   "execution_count": 6,
   "metadata": {},
   "outputs": [
    {
     "data": {
      "text/plain": [
       "{'3': 1761, '4': 939, '2': 678, '5': 82, '1': 107}"
      ]
     },
     "execution_count": 6,
     "metadata": {},
     "output_type": "execute_result"
    }
   ],
   "source": [
    "store = dict()\n",
    "\n",
    "for i in data.index:\n",
    "    if data['Hospital overall rating'][i] not in store:\n",
    "        store[data['Hospital overall rating'][i]] = 1\n",
    "    else:\n",
    "        store[data['Hospital overall rating'][i]] += 1\n",
    "\n",
    "del store['Not Available']\n",
    "store"
   ]
  },
  {
   "cell_type": "code",
   "execution_count": 7,
   "metadata": {},
   "outputs": [
    {
     "data": {
      "image/png": "[encoded data removed]",
      "text/plain": [
       "<Figure size 432x288 with 1 Axes>"
      ]
     },
     "metadata": {
      "needs_background": "light"
     },
     "output_type": "display_data"
    }
   ],
   "source": [
    "import matplotlib.pyplot as plt\n",
    "\n",
    "plt.bar(store.keys(), store.values())\n",
    "plt.show()"
   ]
  },
  {
   "cell_type": "markdown",
   "metadata": {},
   "source": [
    "### 5. Discussion\n",
    "\n",
    "Do any additional exploration of this data that you think may be interesting and include your code here.  Then go onto Slack and make a post about what you've observed.  Share your observation.  Share your code, if you like.  Share a screenshot of the data or a chart based on the data.\n",
    "\n",
    "Then comment on at least two other people's observations that they share on Slack.  (Use the reply as thread option in Slack to keep the conversation organized.)"
   ]
  },
  {
   "cell_type": "code",
   "execution_count": 8,
   "metadata": {},
   "outputs": [
    {
     "name": "stdout",
     "output_type": "stream",
     "text": [
      "CHICAGO\n"
     ]
    }
   ],
   "source": [
    "#Wanted to know which city has most hospitals\n",
    "store = dict()\n",
    "for i in data.index:\n",
    "    if data['City'][i] not in store:\n",
    "        store[data['City'][i]] = 1\n",
    "    else:\n",
    "        store[data['City'][i]] += 1\n",
    "max_city = \"ZUNI\" #Random city \n",
    "city_val = 0\n",
    "for city in store.keys():\n",
    "    if store[city] > city_val:\n",
    "        city_val = store[city]\n",
    "        max_city = city\n",
    "print(max_city)\n"
   ]
  },
  {
   "cell_type": "markdown",
   "metadata": {},
   "source": [
    "\n",
    "\n",
    "---\n",
    "\n",
    "\n",
    "\n",
    "## Submitting Your Work\n",
    "\n",
    "In order to submit your work, you'll need to use the `git` command line program to **add** your homework file (this file) to your local repository, **commit** your changes to your local repository, and then **push** those changes up to github.com.  From there, I'll be able to **pull** the changes down and do my grading.  I'll provide some feedback, **commit** and **push** my comments back to you.  Next week, I'll show you how to **pull** down my comments.\n",
    "\n",
    "To run through everything one last time and submit your work:\n",
    "1. Use the `Kernel` -> `Restart Kernel and Run All Cells` menu option to run everything from top to bottom and stop here.\n",
    "2. Follow the instruction on the prompt below to either ssave and submit your work, or continue working.\n",
    "\n",
    "If anything fails along the way with this submission part of the process, let me know.  I'll help you troubleshoort."
   ]
  },
  {
   "cell_type": "markdown",
   "metadata": {},
   "source": [
    "---"
   ]
  },
  {
   "cell_type": "code",
   "execution_count": 11,
   "metadata": {
    "jupyter": {
     "source_hidden": true
    }
   },
   "outputs": [
    {
     "name": "stdin",
     "output_type": "stream",
     "text": [
      "\n",
      "Are you ready to submit your work?\n",
      "1. Click the Save icon (or do Ctrl-S / Cmd-S)\n",
      "2. Type \"yes\" or \"no\" below\n",
      "3. Press Enter\n",
      "\n",
      " yes\n"
     ]
    },
    {
     "name": "stdout",
     "output_type": "stream",
     "text": [
      "On branch main\n",
      "Your branch is up to date with 'origin/main'.\n",
      "\n",
      "Untracked files:\n",
      "\t\u001b[31m../HospInfo.csv\u001b[m\n",
      "\t\u001b[31m../Untitled.ipynb\u001b[m\n",
      "\t\u001b[31m../Untitled1.ipynb\u001b[m\n",
      "\t\u001b[31m../apache_patients.csv\u001b[m\n",
      "\t\u001b[31m../week 03/week03_class.ipynb\u001b[m\n",
      "\t\u001b[31m../week 04/week04_examples.ipynb\u001b[m\n",
      "\t\u001b[31m../week 04/week04_lookups.ipynb\u001b[m\n",
      "\t\u001b[31m../week 05/\u001b[m\n",
      "\t\u001b[31m../week 06/module29-xml-examples.ipynb\u001b[m\n",
      "\t\u001b[31m../week 06/week06_inclass_1.ipynb\u001b[m\n",
      "\t\u001b[31m../week 10/Number_of_Cancer_Cases_for_All_Cancer_Sites_by_Jurisdiction__Gender__and_Race__Maryland_2009.csv\u001b[m\n",
      "\t\u001b[31mHospInfo.csv\u001b[m\n",
      "\t\u001b[31m../week02/\u001b[m\n",
      "\n",
      "nothing added to commit but untracked files present\n",
      "Everything up-to-date\n"
     ]
    }
   ],
   "source": [
    "a=input('''\n",
    "Are you ready to submit your work?\n",
    "1. Click the Save icon (or do Ctrl-S / Cmd-S)\n",
    "2. Type \"yes\" or \"no\" below\n",
    "3. Press Enter\n",
    "\n",
    "''')\n",
    "\n",
    "if a=='yes':\n",
    "    !git add week13_assignment_2.ipynb\n",
    "    !git commit -a -m \"Submitting the week 12 programming assignment\"\n",
    "    !git push\n",
    "else:\n",
    "    print('''\n",
    "    \n",
    "OK. We can wait.\n",
    "''')"
   ]
  },
  {
   "cell_type": "code",
   "execution_count": null,
   "metadata": {},
   "outputs": [],
   "source": []
  }
 ],
 "metadata": {
  "celltoolbar": "Create Assignment",
  "kernelspec": {
   "display_name": "Python 3",
   "language": "python",
   "name": "python3"
  },
  "language_info": {
   "codemirror_mode": {
    "name": "ipython",
    "version": 3
   },
   "file_extension": ".py",
   "mimetype": "text/x-python",
   "name": "python",
   "nbconvert_exporter": "python",
   "pygments_lexer": "ipython3",
   "version": "3.6.7"
  }
 },
 "nbformat": 4,
 "nbformat_minor": 2
}
