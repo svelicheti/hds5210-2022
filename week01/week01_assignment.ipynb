{
 "cells": [
  {
   "cell_type": "markdown",
   "metadata": {},
   "source": [
    "# Welcome to HDS5210-2022!\n",
    "\n",
    "This first assignment will just help you work through some basic interaction with the Jupyter Notebook and the GitHub account that you've setup.  Please follow the instructions closely."
   ]
  },
  {
   "cell_type": "markdown",
   "metadata": {},
   "source": [
    "## 1. Copy this file\n",
    "\n",
    "You'll notice that this file was distributed to you in a new folder on Jupyter called `from_instructor`. This is where I'll give you files.  This folder in read-only for you, which means you can't accidentally change or delete anything here.  It also means that you'll need to save a copy of this file to your own `hds5210-2022` folder.  Follow these instructions:\n",
    "1. Presumably, you have this file open in Jupyter.  If not, go ahead and open it on https://jupyter.slucor.net.\n",
    "2. In your side bar, open the `hds5210-2022` folder.\n",
    "3. Create a new folder and rename it `week01`.\n",
    "4. Save this file to your `week01` folder with the file name `week01_assignment.ipynb` <-- EXACTLY like that\n",
    "\n",
    "The run the cell below. You should see it print out **You saved the file correctly!** below this cell.\n",
    "\n",
    "If you don't see that, look in the sidebar to see what you might have done wrong.  Click the `home` icon to return home and look under the `hds5210-2022` to find your files."
   ]
  },
  {
   "cell_type": "code",
   "execution_count": 1,
   "metadata": {},
   "outputs": [
    {
     "name": "stdout",
     "output_type": "stream",
     "text": [
      "You saved the file correctly!\n"
     ]
    }
   ],
   "source": [
    "import os\n",
    "\n",
    "home = os.path.expanduser('~')\n",
    "if os.path.exists(home+'/hds5210-2022/week01/week01_assignment.ipynb'):\n",
    "    print('You saved the file correctly!')\n",
    "else:\n",
    "    print('Something is not quite right...')"
   ]
  },
  {
   "cell_type": "markdown",
   "metadata": {},
   "source": [
    "## 2. Share your introduction on Canvas\n",
    "\n",
    "I appreciate everyone taking time introduce themselves during class today.  Please take a few minutes to put that down in Canvas under this discussion as well.  https://canvas.slu.edu/courses/16763/discussion_topics/71061"
   ]
  },
  {
   "cell_type": "markdown",
   "metadata": {},
   "source": [
    "# You're Done!\n",
    "\n",
    "Save this file with Ctrl-S or by clicking the Save icon above.  Then run the cell below to save your work back to GitHub.com.\n",
    "\n",
    "---\n",
    "\n",
    "## Submitting Your Work\n",
    "\n",
    "In order to submit your work, you'll need to use the `git` command line program to **add** your homework file (this file) to your local repository, **commit** your changes to your local repository, and then **push** those changes up to github.com.  From there, I'll be able to **pull** the changes down and do my grading.  I'll provide some feedback, **commit** and **push** my comments back to you.  Next week, I'll show you how to **pull** down my comments."
   ]
  },
  {
   "cell_type": "code",
   "execution_count": 6,
   "metadata": {},
   "outputs": [
    {
     "name": "stdout",
     "output_type": "stream",
     "text": [
      "On branch main\n",
      "Your branch is up to date with 'origin/main'.\n",
      "\n",
      "nothing to commit, working tree clean\n"
     ]
    },
    {
     "name": "stderr",
     "output_type": "stream",
     "text": [
      "Everything up-to-date\n"
     ]
    }
   ],
   "source": [
    "%%bash\n",
    "git add week01_assignment.ipynb\n",
    "git commit -a -m \"Submitting my first assignment\"\n",
    "git push"
   ]
  },
  {
   "cell_type": "code",
   "execution_count": null,
   "metadata": {},
   "outputs": [],
   "source": []
  },
  {
   "cell_type": "code",
   "execution_count": null,
   "metadata": {},
   "outputs": [],
   "source": []
  }
 ],
 "metadata": {
  "kernelspec": {
   "display_name": "Python 3",
   "language": "python",
   "name": "python3"
  },
  "language_info": {
   "codemirror_mode": {
    "name": "ipython",
    "version": 3
   },
   "file_extension": ".py",
   "mimetype": "text/x-python",
   "name": "python",
   "nbconvert_exporter": "python",
   "pygments_lexer": "ipython3",
   "version": "3.6.7"
  }
 },
 "nbformat": 4,
 "nbformat_minor": 4
}
